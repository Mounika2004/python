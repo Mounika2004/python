{
  "nbformat": 4,
  "nbformat_minor": 0,
  "metadata": {
    "colab": {
      "name": "Copy of Copy of control structures",
      "provenance": [],
      "collapsed_sections": [],
      "toc_visible": true,
      "authorship_tag": "ABX9TyPMJQP7Gkknx6GzlHIqLvyg",
      "include_colab_link": true
    },
    "kernelspec": {
      "name": "python3",
      "display_name": "Python 3"
    },
    "language_info": {
      "name": "python"
    }
  },
  "cells": [
    {
      "cell_type": "markdown",
      "metadata": {
        "id": "view-in-github",
        "colab_type": "text"
      },
      "source": [
        "<a href=\"https://colab.research.google.com/github/Mounika2004/python/blob/main/Copy_of_Copy_of_control_structures.ipynb\" target=\"_parent\"><img src=\"https://colab.research.google.com/assets/colab-badge.svg\" alt=\"Open In Colab\"/></a>"
      ]
    },
    {
      "cell_type": "code",
      "execution_count": null,
      "metadata": {
        "id": "zM6wFA85MJWF"
      },
      "outputs": [],
      "source": [
        "## check the traingle is equilateral,scalene,isoceles"
      ]
    },
    {
      "cell_type": "code",
      "source": [
        "a=int(input(\"enter the first side:\"))\n",
        "b=int(input(\"enter the second side:\"))\n",
        "c=int(input(\"enter the third side:\"))\n",
        "if a==b==c:\n",
        "      print(\"the triangle is equilateral:\")\n",
        "elif a>b or b==c:\n",
        "      print(\"the triangle is isoceles:\")\n",
        "else:\n",
        "      print(\"the triangle is scalene:\") "
      ],
      "metadata": {
        "colab": {
          "base_uri": "https://localhost:8080/"
        },
        "id": "ZgXHTKqJOmnV",
        "outputId": "4cee8127-8749-437f-c08d-1be27ebdb858"
      },
      "execution_count": null,
      "outputs": [
        {
          "output_type": "stream",
          "name": "stdout",
          "text": [
            "enter the first side:45\n",
            "enter the second side:67\n",
            "enter the third side:89\n",
            "the triangle is scalene:\n"
          ]
        }
      ]
    },
    {
      "cell_type": "code",
      "source": [
        "## check whether it is a leap year or not"
      ],
      "metadata": {
        "id": "kozsBhggRabN"
      },
      "execution_count": null,
      "outputs": []
    },
    {
      "cell_type": "code",
      "source": [
        "a=int(input(\"enter a year:\"))\n",
        "if  a%400==0 and a%100==0:\n",
        "     print(\"it is a leap year:\")\n",
        "else:\n",
        "     print(\"it is not a leap year:\")"
      ],
      "metadata": {
        "colab": {
          "base_uri": "https://localhost:8080/"
        },
        "id": "3-0cX8qZRpLs",
        "outputId": "9edd87c8-9784-46ea-91a2-5ce396463f7f"
      },
      "execution_count": null,
      "outputs": [
        {
          "output_type": "stream",
          "name": "stdout",
          "text": [
            "enter a year:2004\n",
            "it is not a leap year:\n"
          ]
        }
      ]
    },
    {
      "cell_type": "code",
      "source": [
        "##  minimum of three numbers"
      ],
      "metadata": {
        "id": "IJuZvfLcUXsy"
      },
      "execution_count": null,
      "outputs": []
    },
    {
      "cell_type": "code",
      "source": [
        "a=int(input(\"enter the first number:\"))\n",
        "b=int(input(\"enter the second number:\"))\n",
        "c=int(input(\"enter the third number:\"))\n",
        "if a>b and a>c:\n",
        "    print(\"a is minium:\")\n",
        "if  b<a and b>c:\n",
        "    print(\"b is minium:\")\n",
        "else:\n",
        "    print(\"c is minimum:\")"
      ],
      "metadata": {
        "colab": {
          "base_uri": "https://localhost:8080/"
        },
        "id": "-To-AYR6UlJr",
        "outputId": "fb93380c-3bf7-4453-b45b-fb7c40785734"
      },
      "execution_count": null,
      "outputs": [
        {
          "output_type": "stream",
          "name": "stdout",
          "text": [
            "enter the first number:45\n",
            "enter the second number:56\n",
            "enter the third number:78\n",
            "c is minimum:\n"
          ]
        }
      ]
    },
    {
      "cell_type": "code",
      "source": [
        "## check whether it is divisible by 5 and 11 or not"
      ],
      "metadata": {
        "id": "Jcq6meVZVxKD"
      },
      "execution_count": null,
      "outputs": []
    },
    {
      "cell_type": "code",
      "source": [
        "a=int(input(\"enter the number:\"))\n",
        "if a%5==0 and a%11==0:\n",
        "  print(\"it is divisible:\")\n",
        "else:\n",
        "  print(\"it is not divisible:\")"
      ],
      "metadata": {
        "colab": {
          "base_uri": "https://localhost:8080/"
        },
        "id": "_uLKD5vEV_-b",
        "outputId": "041361b3-fc0d-4e5d-8b71-495f41e934e8"
      },
      "execution_count": null,
      "outputs": [
        {
          "output_type": "stream",
          "name": "stdout",
          "text": [
            "enter the number:45\n",
            "it is not divisible:\n"
          ]
        }
      ]
    }
  ]
}