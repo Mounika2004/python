{
  "nbformat": 4,
  "nbformat_minor": 0,
  "metadata": {
    "colab": {
      "name": "Copy of Lists",
      "provenance": [],
      "collapsed_sections": [],
      "authorship_tag": "ABX9TyP/sRx/GrVaFGWIFHklf2Wh",
      "include_colab_link": true
    },
    "kernelspec": {
      "name": "python3",
      "display_name": "Python 3"
    },
    "language_info": {
      "name": "python"
    }
  },
  "cells": [
    {
      "cell_type": "markdown",
      "metadata": {
        "id": "view-in-github",
        "colab_type": "text"
      },
      "source": [
        "<a href=\"https://colab.research.google.com/github/Mounika2004/python/blob/main/Copy_of_Lists.ipynb\" target=\"_parent\"><img src=\"https://colab.research.google.com/assets/colab-badge.svg\" alt=\"Open In Colab\"/></a>"
      ]
    },
    {
      "cell_type": "code",
      "execution_count": null,
      "metadata": {
        "id": "UyWFrWVWVxr3"
      },
      "outputs": [],
      "source": [
        "## List"
      ]
    },
    {
      "cell_type": "code",
      "source": [
        "fruit=(\"apple\",\"mango\",\"water melon\",\"grapes\",\"kiwi:\")\n",
        "print( fruit)"
      ],
      "metadata": {
        "colab": {
          "base_uri": "https://localhost:8080/"
        },
        "id": "xqUy8pYmWXpY",
        "outputId": "19eb98ca-14b6-408b-8048-05078ba41739"
      },
      "execution_count": null,
      "outputs": [
        {
          "output_type": "stream",
          "name": "stdout",
          "text": [
            "('apple', 'mango', 'water melon', 'grapes', 'kiwi:')\n"
          ]
        }
      ]
    },
    {
      "cell_type": "code",
      "source": [
        "fruits=(\"apple\",\"mango\",\"water melon\",\"grapes\",\"kiwi:\")\n",
        "print(fruit)\n",
        "print(fruit[0])"
      ],
      "metadata": {
        "colab": {
          "base_uri": "https://localhost:8080/"
        },
        "id": "tsYswN5oXTiX",
        "outputId": "e99444da-a7c4-4616-a285-63c997b116c3"
      },
      "execution_count": null,
      "outputs": [
        {
          "output_type": "stream",
          "name": "stdout",
          "text": [
            "('apple', 'mango', 'water melon', 'grapes', 'kiwi:')\n",
            "apple\n"
          ]
        }
      ]
    },
    {
      "cell_type": "code",
      "source": [
        "fruits=(\"apple\",\"mango\",\"water melon\",\"grapes\",\"kiwi:\")\n",
        "print(fruit)\n",
        "print(fruit[1])"
      ],
      "metadata": {
        "colab": {
          "base_uri": "https://localhost:8080/"
        },
        "id": "dgHD0eUOXrKi",
        "outputId": "23d7365e-9f5e-4e25-d892-ad7a2944cde3"
      },
      "execution_count": null,
      "outputs": [
        {
          "output_type": "stream",
          "name": "stdout",
          "text": [
            "('apple', 'mango', 'water melon', 'grapes', 'kiwi:')\n",
            "mango\n"
          ]
        }
      ]
    },
    {
      "cell_type": "code",
      "source": [
        "fruits=(\"apple\",\"mango\",\"water melon\",\"grapes\",\"kiwi:\")\n",
        "print(fruit)\n",
        "print(fruit[0:3])"
      ],
      "metadata": {
        "colab": {
          "base_uri": "https://localhost:8080/"
        },
        "id": "N-XmAXhpX9cw",
        "outputId": "479fb0d9-1df3-4abb-d829-c30b080878a5"
      },
      "execution_count": null,
      "outputs": [
        {
          "output_type": "stream",
          "name": "stdout",
          "text": [
            "('apple', 'mango', 'water melon', 'grapes', 'kiwi:')\n",
            "('apple', 'mango', 'water melon')\n"
          ]
        }
      ]
    },
    {
      "cell_type": "code",
      "source": [
        "fruits=(\"apple\",\"mango\",\"water melon\",\"grapes\",\"kiwi:\")\n",
        "print(fruit)\n",
        "print(fruit[0:2])"
      ],
      "metadata": {
        "colab": {
          "base_uri": "https://localhost:8080/"
        },
        "id": "jYwRy116Yfog",
        "outputId": "00099583-5057-4c32-ba2f-ba1666e34f4f"
      },
      "execution_count": null,
      "outputs": [
        {
          "output_type": "stream",
          "name": "stdout",
          "text": [
            "('apple', 'mango', 'water melon', 'grapes', 'kiwi:')\n",
            "('apple', 'mango')\n"
          ]
        }
      ]
    },
    {
      "cell_type": "code",
      "source": [
        "fruit=(\"apple\",\"mango\",\"water melon\",)\n",
        "print(fruit)\n",
        "print(fruit[0:2])\n",
        "print(fruit[:2])\n",
        "print(fruit[1:2])\n",
        "print(fruit[1:])\n"
      ],
      "metadata": {
        "colab": {
          "base_uri": "https://localhost:8080/"
        },
        "id": "vsc-47RmZeFi",
        "outputId": "346413dd-9f57-409d-ec35-b6014f0cc119"
      },
      "execution_count": null,
      "outputs": [
        {
          "output_type": "stream",
          "name": "stdout",
          "text": [
            "('apple', 'mango', 'water melon')\n",
            "('apple', 'mango')\n",
            "('apple', 'mango')\n",
            "('mango',)\n",
            "('mango', 'water melon')\n"
          ]
        }
      ]
    },
    {
      "cell_type": "code",
      "source": [
        "## append"
      ],
      "metadata": {
        "id": "o-FXb4Vdb4nS"
      },
      "execution_count": null,
      "outputs": []
    },
    {
      "cell_type": "code",
      "source": [
        "Fruit=[\"apple\",\"mango\",\"water melon\",\"grapes\",\"kiwi\"]\n",
        "print(Fruit)\n",
        "Fruit.append(\"papaya\")\n",
        "print(Fruit)"
      ],
      "metadata": {
        "colab": {
          "base_uri": "https://localhost:8080/"
        },
        "id": "HiY6CHh4b8Th",
        "outputId": "a562d0aa-3211-4e48-8c1c-9e52c457f971"
      },
      "execution_count": null,
      "outputs": [
        {
          "output_type": "stream",
          "name": "stdout",
          "text": [
            "['apple', 'mango', 'water melon', 'grapes', 'kiwi']\n",
            "['apple', 'mango', 'water melon', 'grapes', 'kiwi', 'papaya']\n"
          ]
        }
      ]
    },
    {
      "cell_type": "code",
      "source": [
        "## pop"
      ],
      "metadata": {
        "id": "hecwRvJie5YS"
      },
      "execution_count": null,
      "outputs": []
    },
    {
      "cell_type": "code",
      "source": [
        "Fruit=[\"apple\",\"mango\",\"water melon\",\"grapes\",\"kiwi\"]\n",
        "print(Fruit)\n",
        "Fruit.pop(4)\n",
        "print(Fruit)"
      ],
      "metadata": {
        "colab": {
          "base_uri": "https://localhost:8080/"
        },
        "id": "akB0DWS0e-JB",
        "outputId": "abb475f3-2c8b-41fd-83da-bb343046a863"
      },
      "execution_count": null,
      "outputs": [
        {
          "output_type": "stream",
          "name": "stdout",
          "text": [
            "['apple', 'mango', 'water melon', 'grapes', 'kiwi']\n",
            "['apple', 'mango', 'water melon', 'grapes']\n"
          ]
        }
      ]
    },
    {
      "cell_type": "code",
      "source": [
        "##  remove delete"
      ],
      "metadata": {
        "id": "FMXXhhUTf5HS"
      },
      "execution_count": null,
      "outputs": []
    },
    {
      "cell_type": "code",
      "source": [
        "Fruit=[\"apple\",\"mango\",\"water melon\",\"grapes\",\"kiwi\"]\n",
        "print(Fruit)\n",
        "del Fruit[1]\n",
        "print(Fruit)\n"
      ],
      "metadata": {
        "colab": {
          "base_uri": "https://localhost:8080/"
        },
        "id": "AoQBT8TogJBC",
        "outputId": "62af9cbf-e4cb-41b6-9f95-7e3fe440bdac"
      },
      "execution_count": null,
      "outputs": [
        {
          "output_type": "stream",
          "name": "stdout",
          "text": [
            "['apple', 'mango', 'water melon', 'grapes', 'kiwi']\n",
            "['apple', 'water melon', 'grapes', 'kiwi']\n"
          ]
        }
      ]
    },
    {
      "cell_type": "code",
      "source": [
        "## insert"
      ],
      "metadata": {
        "id": "FLeKK_IsggiS"
      },
      "execution_count": null,
      "outputs": []
    },
    {
      "cell_type": "code",
      "source": [
        "Fruit=[\"apple\",\"mango\",\"water melon\",\"grapes\",\"kiwi\"]\n",
        "print(Fruit)\n",
        "Fruit.insert(1,\"mango\")\n",
        "print(Fruit)"
      ],
      "metadata": {
        "colab": {
          "base_uri": "https://localhost:8080/"
        },
        "id": "4AqfuEsNgqCp",
        "outputId": "b864f20f-5f8d-4c1b-92be-dbf2415152b1"
      },
      "execution_count": null,
      "outputs": [
        {
          "output_type": "stream",
          "name": "stdout",
          "text": [
            "['apple', 'mango', 'water melon', 'grapes', 'kiwi']\n",
            "['apple', 'mango', 'mango', 'water melon', 'grapes', 'kiwi']\n"
          ]
        }
      ]
    },
    {
      "cell_type": "code",
      "source": [
        "## clear the list"
      ],
      "metadata": {
        "id": "nmwxEQKvhI7D"
      },
      "execution_count": null,
      "outputs": []
    },
    {
      "cell_type": "code",
      "source": [
        "Fruit=[\"apple\",\"mango\",\"water melon\",\"grapes\",\"kiwi\"]\n",
        "print(Fruit)\n",
        "Fruit.clear()\n",
        "print(Fruit)"
      ],
      "metadata": {
        "colab": {
          "base_uri": "https://localhost:8080/"
        },
        "id": "f4_52hYsh4wi",
        "outputId": "88edf1c5-3fca-47df-c516-1056eda3c296"
      },
      "execution_count": null,
      "outputs": [
        {
          "output_type": "stream",
          "name": "stdout",
          "text": [
            "['apple', 'mango', 'water melon', 'grapes', 'kiwi']\n",
            "[]\n"
          ]
        }
      ]
    },
    {
      "cell_type": "code",
      "source": [
        "## sorting ascending"
      ],
      "metadata": {
        "id": "a27YL4fyiMzj"
      },
      "execution_count": null,
      "outputs": []
    },
    {
      "cell_type": "code",
      "source": [
        "num=[1,30,76,65,31]\n",
        "num.sort()\n",
        "print(num)"
      ],
      "metadata": {
        "colab": {
          "base_uri": "https://localhost:8080/"
        },
        "id": "myJdkCbPiPAx",
        "outputId": "c75d7045-86cc-411f-e557-f759069e8e4a"
      },
      "execution_count": null,
      "outputs": [
        {
          "output_type": "stream",
          "name": "stdout",
          "text": [
            "[1, 30, 31, 65, 76]\n"
          ]
        }
      ]
    },
    {
      "cell_type": "code",
      "source": [
        "## descending"
      ],
      "metadata": {
        "id": "1Z-u2WNzipdy"
      },
      "execution_count": null,
      "outputs": []
    },
    {
      "cell_type": "code",
      "source": [
        "num=[1,30,76,65,31]\n",
        "num.sort()\n",
        "num.sort(reverse=True)\n",
        "print(num)"
      ],
      "metadata": {
        "colab": {
          "base_uri": "https://localhost:8080/"
        },
        "id": "JbraQzvNi6aC",
        "outputId": "b8f82f96-2c92-4b70-f69b-c031cab2a29f"
      },
      "execution_count": null,
      "outputs": [
        {
          "output_type": "stream",
          "name": "stdout",
          "text": [
            "[76, 65, 31, 30, 1]\n"
          ]
        }
      ]
    },
    {
      "cell_type": "code",
      "source": [
        "## descending alphabets"
      ],
      "metadata": {
        "id": "NrFH7OqhjZnS"
      },
      "execution_count": null,
      "outputs": []
    },
    {
      "cell_type": "code",
      "source": [
        "Alphabet=[\"A\",\"B\",\"C\",\"M\",\"k\"]\n",
        "Alphabet.sort(reverse=True)\n",
        "print(Alphabet)"
      ],
      "metadata": {
        "colab": {
          "base_uri": "https://localhost:8080/"
        },
        "id": "J7gZF7JWjlny",
        "outputId": "0fdc9e2f-bcb5-4877-87c7-014168a5e7e9"
      },
      "execution_count": null,
      "outputs": [
        {
          "output_type": "stream",
          "name": "stdout",
          "text": [
            "['k', 'M', 'C', 'B', 'A']\n"
          ]
        }
      ]
    },
    {
      "cell_type": "code",
      "source": [
        "## Lenght"
      ],
      "metadata": {
        "id": "_YT2huUnkMZT"
      },
      "execution_count": null,
      "outputs": []
    },
    {
      "cell_type": "code",
      "source": [
        "Alphabet=[\"A\",\"B\",\"C\",\"M\",\"k\",\"G\",\"I\",\"L\"]\n",
        "print(len(Alphabet))\n"
      ],
      "metadata": {
        "colab": {
          "base_uri": "https://localhost:8080/"
        },
        "id": "R6QDgtiqme5z",
        "outputId": "d12b0e8e-7180-4a90-85d3-e8a30c800874"
      },
      "execution_count": null,
      "outputs": [
        {
          "output_type": "stream",
          "name": "stdout",
          "text": [
            "8\n"
          ]
        }
      ]
    }
  ]
}