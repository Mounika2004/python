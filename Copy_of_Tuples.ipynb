{
  "nbformat": 4,
  "nbformat_minor": 0,
  "metadata": {
    "colab": {
      "name": "Copy of Tuples",
      "provenance": [],
      "authorship_tag": "ABX9TyPaiWHv6B61JGUPT5tQufB9",
      "include_colab_link": true
    },
    "kernelspec": {
      "name": "python3",
      "display_name": "Python 3"
    },
    "language_info": {
      "name": "python"
    }
  },
  "cells": [
    {
      "cell_type": "markdown",
      "metadata": {
        "id": "view-in-github",
        "colab_type": "text"
      },
      "source": [
        "<a href=\"https://colab.research.google.com/github/Mounika2004/python/blob/main/Copy_of_Tuples.ipynb\" target=\"_parent\"><img src=\"https://colab.research.google.com/assets/colab-badge.svg\" alt=\"Open In Colab\"/></a>"
      ]
    },
    {
      "cell_type": "code",
      "execution_count": null,
      "metadata": {
        "id": "TnZ5N-8KYKKb"
      },
      "outputs": [],
      "source": [
        "## create a tuple"
      ]
    },
    {
      "cell_type": "code",
      "source": [
        "Tuple=(\"apple\",\"grape\",\"banana\")\n",
        "print(Tuple)"
      ],
      "metadata": {
        "colab": {
          "base_uri": "https://localhost:8080/"
        },
        "id": "EdJDJ2gVZH7p",
        "outputId": "f35bf9a3-c4d7-47a9-a1fb-a7397a787fe5"
      },
      "execution_count": null,
      "outputs": [
        {
          "output_type": "stream",
          "name": "stdout",
          "text": [
            "('apple', 'grape', 'banana')\n"
          ]
        }
      ]
    },
    {
      "cell_type": "code",
      "source": [
        "## allow duplicate values"
      ],
      "metadata": {
        "id": "ML4VxKTrZ1zC"
      },
      "execution_count": null,
      "outputs": []
    },
    {
      "cell_type": "code",
      "source": [
        "Tuple = (\"apple\", \"banana\", \"cherry\", \"apple\", \"cherry\")\n",
        "print(Tuple)"
      ],
      "metadata": {
        "colab": {
          "base_uri": "https://localhost:8080/"
        },
        "id": "DiA_ZLVNaDXR",
        "outputId": "fc369d97-2410-4b8f-80e5-636911e45cf0"
      },
      "execution_count": null,
      "outputs": [
        {
          "output_type": "stream",
          "name": "stdout",
          "text": [
            "('apple', 'banana', 'cherry', 'apple', 'cherry')\n"
          ]
        }
      ]
    },
    {
      "cell_type": "code",
      "source": [
        "## Tuple lenght"
      ],
      "metadata": {
        "id": "IWdMQZDJaXry"
      },
      "execution_count": null,
      "outputs": []
    },
    {
      "cell_type": "code",
      "source": [
        "Tuple = (\"apple\", \"banana\", \"cherry\")\n",
        "print(len(Tuple))"
      ],
      "metadata": {
        "colab": {
          "base_uri": "https://localhost:8080/"
        },
        "id": "9W4dW94BabCR",
        "outputId": "f00dd67a-d1e8-4720-937e-6c8283961568"
      },
      "execution_count": null,
      "outputs": [
        {
          "output_type": "stream",
          "name": "stdout",
          "text": [
            "3\n"
          ]
        }
      ]
    },
    {
      "cell_type": "code",
      "source": [
        "## Tuple"
      ],
      "metadata": {
        "id": "VEzGCAMZaw95"
      },
      "execution_count": null,
      "outputs": []
    },
    {
      "cell_type": "code",
      "source": [
        "Tuple = (\"apple\",)\n",
        "print(type(Tuple))"
      ],
      "metadata": {
        "colab": {
          "base_uri": "https://localhost:8080/"
        },
        "id": "T6d3Txa3a6Yp",
        "outputId": "d899d1dd-cb27-46b9-cda0-0492ad01f436"
      },
      "execution_count": null,
      "outputs": [
        {
          "output_type": "stream",
          "name": "stdout",
          "text": [
            "<class 'tuple'>\n"
          ]
        }
      ]
    },
    {
      "cell_type": "code",
      "source": [
        "## not a tuple"
      ],
      "metadata": {
        "id": "CA2DNLzlbOnx"
      },
      "execution_count": null,
      "outputs": []
    },
    {
      "cell_type": "code",
      "source": [
        "Tuple = (\"apple\")\n",
        "print(type(Tuple))"
      ],
      "metadata": {
        "colab": {
          "base_uri": "https://localhost:8080/"
        },
        "id": "POmNu-sfbReB",
        "outputId": "6a7e0223-5333-4da8-a2f8-10171b4644b2"
      },
      "execution_count": null,
      "outputs": [
        {
          "output_type": "stream",
          "name": "stdout",
          "text": [
            "<class 'str'>\n"
          ]
        }
      ]
    },
    {
      "cell_type": "code",
      "source": [
        "## string,int,boolean values"
      ],
      "metadata": {
        "id": "8dJpTNkGba7B"
      },
      "execution_count": null,
      "outputs": []
    },
    {
      "cell_type": "code",
      "source": [
        "Tuple1 = (\"apple\",\"banana\",\"cherry\")\n",
        "Tuple2 = (1,5,6,9)\n",
        "Tuple3 = (True,False,False)\n",
        "print(Tuple1,Tuple2,Tuple3)"
      ],
      "metadata": {
        "colab": {
          "base_uri": "https://localhost:8080/"
        },
        "id": "GOULVNqob93h",
        "outputId": "1e314939-4615-40f4-c490-6d79a1d030cd"
      },
      "execution_count": null,
      "outputs": [
        {
          "output_type": "stream",
          "name": "stdout",
          "text": [
            "('apple', 'banana', 'cherry') (1, 5, 6, 9) (True, False, False)\n"
          ]
        }
      ]
    },
    {
      "cell_type": "code",
      "source": [
        "## Tuple with string,boolean,int"
      ],
      "metadata": {
        "id": "qfA6iSiMrCAR"
      },
      "execution_count": null,
      "outputs": []
    },
    {
      "cell_type": "code",
      "source": [
        "Tuple = (\"abc\",54,\"male\",True)\n",
        "print(Tuple)"
      ],
      "metadata": {
        "colab": {
          "base_uri": "https://localhost:8080/"
        },
        "id": "jo0zYQudrO5l",
        "outputId": "2eab5199-cf3a-4cf8-dd27-9ee83618f940"
      },
      "execution_count": null,
      "outputs": [
        {
          "output_type": "stream",
          "name": "stdout",
          "text": [
            "('abc', 54, 'male', True)\n"
          ]
        }
      ]
    },
    {
      "cell_type": "code",
      "source": [
        "## daata type of tuple"
      ],
      "metadata": {
        "id": "DzI44F3_rruW"
      },
      "execution_count": null,
      "outputs": []
    },
    {
      "cell_type": "code",
      "source": [
        "Tuple = (\"apple\",\"banana\",\"cherry\")\n",
        "print(type(Tuple))"
      ],
      "metadata": {
        "colab": {
          "base_uri": "https://localhost:8080/"
        },
        "id": "7bzMKjlAr7vq",
        "outputId": "aa04801a-d3e4-4fc9-f6c5-b506d12f50aa"
      },
      "execution_count": null,
      "outputs": [
        {
          "output_type": "stream",
          "name": "stdout",
          "text": [
            "<class 'tuple'>\n"
          ]
        }
      ]
    },
    {
      "cell_type": "code",
      "source": [
        "## Tuple constructor"
      ],
      "metadata": {
        "id": "10hAHLWRsQbu"
      },
      "execution_count": null,
      "outputs": []
    },
    {
      "cell_type": "code",
      "source": [
        "Tuple = ((\"apple\",\"banana\",\"cherry\"))\n",
        "print(type(Tuple))"
      ],
      "metadata": {
        "colab": {
          "base_uri": "https://localhost:8080/"
        },
        "id": "RZuB0YN1sWrX",
        "outputId": "0fd4962d-37c0-4960-85f5-a06db974110d"
      },
      "execution_count": null,
      "outputs": [
        {
          "output_type": "stream",
          "name": "stdout",
          "text": [
            "<class 'tuple'>\n"
          ]
        }
      ]
    },
    {
      "cell_type": "code",
      "source": [
        "## Accesss Tuple"
      ],
      "metadata": {
        "id": "QqwY8_Ags7Jw"
      },
      "execution_count": null,
      "outputs": []
    },
    {
      "cell_type": "code",
      "source": [
        "Tuple = (\"apple\",\"banana\",\"cherry\")\n",
        "print(Tuple[1])"
      ],
      "metadata": {
        "colab": {
          "base_uri": "https://localhost:8080/"
        },
        "id": "pDyizRQOs_Mf",
        "outputId": "7bd469e5-d584-464b-e0c9-ea87a15fcf60"
      },
      "execution_count": null,
      "outputs": [
        {
          "output_type": "stream",
          "name": "stdout",
          "text": [
            "banana\n"
          ]
        }
      ]
    },
    {
      "cell_type": "code",
      "source": [
        "## negative indexing"
      ],
      "metadata": {
        "id": "Vc3fvC-zta2e"
      },
      "execution_count": null,
      "outputs": []
    },
    {
      "cell_type": "code",
      "source": [
        "Tuple = (\"apple\",\"banana\",\"cherry\")\n",
        "print(Tuple[-1])"
      ],
      "metadata": {
        "colab": {
          "base_uri": "https://localhost:8080/"
        },
        "id": "2B9NW_2qtnFf",
        "outputId": "eacdd867-de19-4731-f1a5-d9b353719911"
      },
      "execution_count": null,
      "outputs": [
        {
          "output_type": "stream",
          "name": "stdout",
          "text": [
            "cherry\n"
          ]
        }
      ]
    },
    {
      "cell_type": "code",
      "source": [
        ""
      ],
      "metadata": {
        "id": "RSOhWBvNukSf"
      },
      "execution_count": null,
      "outputs": []
    }
  ]
}