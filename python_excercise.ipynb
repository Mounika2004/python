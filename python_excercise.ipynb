{
  "cells": [
    {
      "cell_type": "markdown",
      "metadata": {
        "id": "view-in-github",
        "colab_type": "text"
      },
      "source": [
        "<a href=\"https://colab.research.google.com/github/Mounika2004/python/blob/main/python_excercise.ipynb\" target=\"_parent\"><img src=\"https://colab.research.google.com/assets/colab-badge.svg\" alt=\"Open In Colab\"/></a>"
      ]
    },
    {
      "cell_type": "markdown",
      "id": "03395e4a",
      "metadata": {
        "id": "03395e4a"
      },
      "source": [
        "## average of three numbers\n"
      ]
    },
    {
      "cell_type": "code",
      "execution_count": null,
      "id": "be8bf737",
      "metadata": {
        "id": "be8bf737",
        "outputId": "0c60d929-55f0-447c-97f6-be9956563ca0"
      },
      "outputs": [
        {
          "name": "stdout",
          "output_type": "stream",
          "text": [
            "20.0\n",
            "<class 'float'>\n"
          ]
        }
      ],
      "source": [
        "a=10\n",
        "b=20\n",
        "c=30\n",
        "avg=(a+b+c)/3\n",
        "print(avg)\n",
        "print(type(avg))"
      ]
    },
    {
      "cell_type": "markdown",
      "id": "b743b77b",
      "metadata": {
        "id": "b743b77b"
      },
      "source": [
        "## multipilcation of  three numbers using static\n",
        "    \n",
        "    "
      ]
    },
    {
      "cell_type": "markdown",
      "id": "88ae8312",
      "metadata": {
        "id": "88ae8312"
      },
      "source": [
        "int a=10\n",
        "    b=20\n",
        "    c=30\n",
        "    multiply=(a*b*c)\n",
        "    print(multiply)\n",
        "    print(type(multiply))\n",
        "    print(a)\n",
        "    print(type(a))\n",
        "    \n",
        "    "
      ]
    },
    {
      "cell_type": "markdown",
      "id": "6545d3f4",
      "metadata": {
        "id": "6545d3f4"
      },
      "source": [
        " a=2\n",
        "    b=4\n",
        "    c=5\n",
        "    multiply=(a*b*c)\n",
        "    print(multiply)\n",
        "    print(type(multiply))\n",
        "    print(a)\n",
        "    p\n",
        "    "
      ]
    },
    {
      "cell_type": "markdown",
      "id": "7726bcf9",
      "metadata": {
        "id": "7726bcf9"
      },
      "source": [
        "## multipilcation of three numbers"
      ]
    },
    {
      "cell_type": "code",
      "execution_count": null,
      "id": "abebff40",
      "metadata": {
        "id": "abebff40",
        "outputId": "edeeb8a1-8948-479a-c050-8a572cef0ee9"
      },
      "outputs": [
        {
          "name": "stdout",
          "output_type": "stream",
          "text": [
            "40\n",
            "<class 'int'>\n",
            "2\n"
          ]
        }
      ],
      "source": [
        "a=2\n",
        "b=4\n",
        "c=5\n",
        "multiply=(a*b*c)\n",
        "print(multiply)\n",
        "print(type(multiply))\n",
        "print(a)"
      ]
    },
    {
      "cell_type": "markdown",
      "id": "551d4caa",
      "metadata": {
        "id": "551d4caa"
      },
      "source": [
        "## dynamic addition of two numbers"
      ]
    },
    {
      "cell_type": "code",
      "execution_count": null,
      "id": "58debda4",
      "metadata": {
        "id": "58debda4",
        "outputId": "7aacc177-68db-490f-8066-dc44f785fc82"
      },
      "outputs": [
        {
          "name": "stdout",
          "output_type": "stream",
          "text": [
            "enter the number:84\n",
            "enter the number:84\n",
            "168\n",
            "<class 'type'>\n"
          ]
        }
      ],
      "source": [
        "a=int(input(\"enter the number:\"))\n",
        "b=int(input(\"enter the number:\"))\n",
        "add=(a+b)\n",
        "print(add)\n",
        "print(type)"
      ]
    },
    {
      "cell_type": "markdown",
      "id": "6ae0b8b3",
      "metadata": {
        "id": "6ae0b8b3"
      },
      "source": [
        "## dynamic multipilcation of two numbers"
      ]
    },
    {
      "cell_type": "code",
      "execution_count": null,
      "id": "32f401ed",
      "metadata": {
        "id": "32f401ed",
        "outputId": "da5cbd86-7ff2-4532-a863-ed2a3c9eb946"
      },
      "outputs": [
        {
          "name": "stdout",
          "output_type": "stream",
          "text": [
            "enter the number:86\n",
            "enter the number:86\n",
            "7396\n",
            "<class 'type'>\n"
          ]
        }
      ],
      "source": [
        "a=int(input(\"enter the number:\"))\n",
        "b=int(input(\"enter the number:\"))\n",
        "multiply=(a*b)\n",
        "print(multiply)\n",
        "print(type)"
      ]
    },
    {
      "cell_type": "code",
      "execution_count": null,
      "id": "bca2b188",
      "metadata": {
        "id": "bca2b188",
        "outputId": "0e6314e8-e3e1-4987-f00b-78d864cd7e41"
      },
      "outputs": [
        {
          "ename": "SyntaxError",
          "evalue": "invalid syntax (Temp/ipykernel_1236/2412598307.py, line 1)",
          "output_type": "error",
          "traceback": [
            "\u001b[1;36m  File \u001b[1;32m\"C:\\Users\\CSE22004\\AppData\\Local\\Temp/ipykernel_1236/2412598307.py\"\u001b[1;36m, line \u001b[1;32m1\u001b[0m\n\u001b[1;33m    type conversions (int to float)\u001b[0m\n\u001b[1;37m         ^\u001b[0m\n\u001b[1;31mSyntaxError\u001b[0m\u001b[1;31m:\u001b[0m invalid syntax\n"
          ]
        }
      ],
      "source": [
        "type conversions (int to float)"
      ]
    },
    {
      "cell_type": "markdown",
      "id": "d5b05a83",
      "metadata": {
        "id": "d5b05a83"
      },
      "source": [
        "type conversions (convert int to float)"
      ]
    },
    {
      "cell_type": "code",
      "execution_count": null,
      "id": "d9e98e09",
      "metadata": {
        "id": "d9e98e09",
        "outputId": "c54e6f9d-3972-4adb-b817-f91150361bf2"
      },
      "outputs": [
        {
          "name": "stdout",
          "output_type": "stream",
          "text": [
            "10\n",
            "<class 'int'>\n",
            "10.0\n",
            "<class 'float'>\n"
          ]
        }
      ],
      "source": [
        "a=10\n",
        "print(a)\n",
        "print(type(a))\n",
        "b=float(a)\n",
        "print(b)\n",
        "print(type(b))"
      ]
    },
    {
      "cell_type": "markdown",
      "id": "bedbae7f",
      "metadata": {
        "id": "bedbae7f"
      },
      "source": [
        "## float to int"
      ]
    },
    {
      "cell_type": "markdown",
      "id": "9ba283f1",
      "metadata": {
        "id": "9ba283f1"
      },
      "source": [
        "a=10,10\n",
        "print(a)\n",
        "print(type(a))\n",
        "b=int(a)\n",
        "print(b)\n",
        "print(type(b))"
      ]
    },
    {
      "cell_type": "markdown",
      "id": "ef2c8107",
      "metadata": {
        "id": "ef2c8107"
      },
      "source": [
        "## convert into string"
      ]
    },
    {
      "cell_type": "code",
      "execution_count": null,
      "id": "e56d54f2",
      "metadata": {
        "id": "e56d54f2",
        "outputId": "cbb63d6d-d757-402d-e114-2f685871e031"
      },
      "outputs": [
        {
          "name": "stdout",
          "output_type": "stream",
          "text": [
            "10\n",
            "<class 'int'>\n",
            "10\n",
            "<class 'str'>\n"
          ]
        }
      ],
      "source": [
        "a=10\n",
        "print(a)\n",
        "print(type(a))\n",
        "b=str(a)\n",
        "print(b)\n",
        "print(type(b))"
      ]
    },
    {
      "cell_type": "markdown",
      "id": "c91a255f",
      "metadata": {
        "id": "c91a255f"
      },
      "source": [
        "##  convert float to string"
      ]
    },
    {
      "cell_type": "code",
      "execution_count": null,
      "id": "91dc6c94",
      "metadata": {
        "id": "91dc6c94",
        "outputId": "ecfa9a77-3954-46ee-8c50-09c5acaabd08"
      },
      "outputs": [
        {
          "name": "stdout",
          "output_type": "stream",
          "text": [
            "(10, 10)\n",
            "<class 'tuple'>\n",
            "(10, 10)\n",
            "<class 'str'>\n"
          ]
        }
      ],
      "source": [
        "a=10,10\n",
        "print(a)\n",
        "print(type(a))\n",
        "b=str(a)\n",
        "print(b)\n",
        "print(type(b))\n"
      ]
    },
    {
      "cell_type": "markdown",
      "id": "18b86e82",
      "metadata": {
        "id": "18b86e82"
      },
      "source": [
        "## convert string to i nt"
      ]
    },
    {
      "cell_type": "code",
      "execution_count": null,
      "id": "e4478430",
      "metadata": {
        "id": "e4478430",
        "outputId": "072c48a1-3562-4ef6-b2c1-4658c6f160a5"
      },
      "outputs": [
        {
          "name": "stdout",
          "output_type": "stream",
          "text": [
            "10\n",
            "<class 'str'>\n",
            "10\n",
            "10\n",
            "<class 'int'>\n"
          ]
        }
      ],
      "source": [
        "a='10'\n",
        "print(a)\n",
        "print(type(a))\n",
        "b=int(a)\n",
        "print(b)\n",
        "print(b)\n",
        "print(type(b))"
      ]
    },
    {
      "cell_type": "markdown",
      "id": "ca785850",
      "metadata": {
        "id": "ca785850"
      },
      "source": [
        "## convert into boolean"
      ]
    },
    {
      "cell_type": "code",
      "execution_count": null,
      "id": "b08c26fb",
      "metadata": {
        "id": "b08c26fb",
        "outputId": "2d97c441-a710-40b9-b0f4-dda90dd60627"
      },
      "outputs": [
        {
          "name": "stdout",
          "output_type": "stream",
          "text": [
            "10\n",
            "<class 'int'>\n",
            "True\n",
            "<class 'bool'>\n"
          ]
        }
      ],
      "source": [
        "a=10\n",
        "print(a)\n",
        "print(type(a))\n",
        "b=bool(a)\n",
        "print(b)\n",
        "print(type(b))"
      ]
    },
    {
      "cell_type": "markdown",
      "id": "0374692d",
      "metadata": {
        "id": "0374692d"
      },
      "source": [
        "## check boolean condition"
      ]
    },
    {
      "cell_type": "code",
      "execution_count": null,
      "id": "22d520cd",
      "metadata": {
        "id": "22d520cd",
        "outputId": "6f62c121-b9ed-493b-a3aa-ec6650efe61a"
      },
      "outputs": [
        {
          "name": "stdout",
          "output_type": "stream",
          "text": [
            "True\n"
          ]
        }
      ],
      "source": [
        "print(20==20)"
      ]
    },
    {
      "cell_type": "markdown",
      "id": "825725cb",
      "metadata": {
        "id": "825725cb"
      },
      "source": [
        "## check boolean condition"
      ]
    },
    {
      "cell_type": "code",
      "execution_count": null,
      "id": "d9df9874",
      "metadata": {
        "id": "d9df9874",
        "outputId": "e0ec8600-7856-450e-ac9b-18a273dc40bf"
      },
      "outputs": [
        {
          "name": "stdout",
          "output_type": "stream",
          "text": [
            "False\n"
          ]
        }
      ],
      "source": [
        "print(90<80)"
      ]
    },
    {
      "cell_type": "markdown",
      "id": "1ff17606",
      "metadata": {
        "id": "1ff17606"
      },
      "source": [
        "## convert float to boolean"
      ]
    },
    {
      "cell_type": "code",
      "execution_count": null,
      "id": "f685c475",
      "metadata": {
        "id": "f685c475",
        "outputId": "c3c8cecf-7f7b-4cb6-ff3f-cd8d1abe53c3"
      },
      "outputs": [
        {
          "name": "stdout",
          "output_type": "stream",
          "text": [
            "(10, 10)\n",
            "<class 'tuple'>\n",
            "True\n",
            "<class 'bool'>\n"
          ]
        }
      ],
      "source": [
        "a=10,10\n",
        "print(a)\n",
        "print(type(a))\n",
        "b=bool(a)\n",
        "print(b)\n",
        "print(type(b))"
      ]
    },
    {
      "cell_type": "markdown",
      "id": "450376c5",
      "metadata": {
        "id": "450376c5"
      },
      "source": [
        "## convert string to boolean"
      ]
    },
    {
      "cell_type": "code",
      "execution_count": null,
      "id": "b9ad2159",
      "metadata": {
        "id": "b9ad2159",
        "outputId": "3e8e40b9-c273-4120-b7e9-a951c5458f32"
      },
      "outputs": [
        {
          "name": "stdout",
          "output_type": "stream",
          "text": [
            "10\n",
            "<class 'str'>\n",
            "True\n",
            "<class 'bool'>\n"
          ]
        }
      ],
      "source": [
        "a='10'\n",
        "print(a)\n",
        "print(type(a))\n",
        "b=bool(a)\n",
        "print(b)\n",
        "print(type(b))"
      ]
    },
    {
      "cell_type": "markdown",
      "id": "3b509183",
      "metadata": {
        "id": "3b509183"
      },
      "source": [
        "## convert int to boolean"
      ]
    },
    {
      "cell_type": "code",
      "execution_count": null,
      "id": "94054366",
      "metadata": {
        "id": "94054366",
        "outputId": "b270917b-dc09-47e2-edde-3111054a26da"
      },
      "outputs": [
        {
          "name": "stdout",
          "output_type": "stream",
          "text": [
            "True\n",
            "<class 'bool'>\n",
            "1\n",
            "<class 'int'>\n"
          ]
        }
      ],
      "source": [
        "a=True\n",
        "print(a)\n",
        "print(type(a))\n",
        "b=int(a)\n",
        "print(b)\n",
        "print(type(b))"
      ]
    },
    {
      "cell_type": "markdown",
      "id": "fa61ccef",
      "metadata": {
        "id": "fa61ccef"
      },
      "source": [
        "## convert float to boolean"
      ]
    },
    {
      "cell_type": "code",
      "execution_count": null,
      "id": "78d8cb2e",
      "metadata": {
        "id": "78d8cb2e",
        "outputId": "a05d196f-9192-4940-f1bf-99cc619afbd3"
      },
      "outputs": [
        {
          "name": "stdout",
          "output_type": "stream",
          "text": [
            "False\n",
            "<class 'bool'>\n",
            "0.0\n",
            "<class 'float'>\n"
          ]
        }
      ],
      "source": [
        "a=False\n",
        "print(a)\n",
        "print(type(a))\n",
        "b=float(a)\n",
        "print(b)\n",
        "print(type(b))"
      ]
    },
    {
      "cell_type": "markdown",
      "id": "1263999a",
      "metadata": {
        "id": "1263999a"
      },
      "source": [
        "## convert boolean to float"
      ]
    },
    {
      "cell_type": "code",
      "execution_count": null,
      "id": "84123c93",
      "metadata": {
        "id": "84123c93",
        "outputId": "cbfb0d5b-ff64-4d32-84ff-87e4c07fb172"
      },
      "outputs": [
        {
          "name": "stdout",
          "output_type": "stream",
          "text": [
            "False\n",
            "<class 'bool'>\n",
            "0.0\n",
            "<class 'float'>\n"
          ]
        }
      ],
      "source": [
        "a=False\n",
        "print(a)\n",
        "print(type(a))\n",
        "b=float(a)\n",
        "print(b)\n",
        "print(type(b))"
      ]
    },
    {
      "cell_type": "markdown",
      "id": "7ee7afc5",
      "metadata": {
        "id": "7ee7afc5"
      },
      "source": [
        "## convert boolean to string"
      ]
    },
    {
      "cell_type": "code",
      "execution_count": null,
      "id": "2b7384c5",
      "metadata": {
        "id": "2b7384c5",
        "outputId": "1c00fecf-5082-4e9c-aded-10ca36ac439d"
      },
      "outputs": [
        {
          "name": "stdout",
          "output_type": "stream",
          "text": [
            "True\n",
            "<class 'bool'>\n",
            "True\n",
            "<class 'str'>\n"
          ]
        }
      ],
      "source": [
        "a=True\n",
        "print(a)\n",
        "print(type(a))\n",
        "b=str(a)\n",
        "print(b)\n",
        "print(type(b))"
      ]
    },
    {
      "cell_type": "markdown",
      "id": "a49c6c31",
      "metadata": {
        "id": "a49c6c31"
      },
      "source": [
        "## int to boolean(with condition)"
      ]
    },
    {
      "cell_type": "code",
      "execution_count": null,
      "id": "64c8c2ab",
      "metadata": {
        "id": "64c8c2ab",
        "outputId": "7d514b64-df21-4915-c0d5-e24ac1333881"
      },
      "outputs": [
        {
          "name": "stdout",
          "output_type": "stream",
          "text": [
            "False\n",
            "<class 'bool'>\n"
          ]
        }
      ],
      "source": [
        "a=5\n",
        "b=10\n",
        "c=(a>b)\n",
        "print(c)\n",
        "print(type(c))"
      ]
    }
  ],
  "metadata": {
    "kernelspec": {
      "display_name": "Python 3 (ipykernel)",
      "language": "python",
      "name": "python3"
    },
    "language_info": {
      "codemirror_mode": {
        "name": "ipython",
        "version": 3
      },
      "file_extension": ".py",
      "mimetype": "text/x-python",
      "name": "python",
      "nbconvert_exporter": "python",
      "pygments_lexer": "ipython3",
      "version": "3.9.7"
    },
    "colab": {
      "name": "python excercise.ipynb",
      "provenance": [],
      "include_colab_link": true
    }
  },
  "nbformat": 4,
  "nbformat_minor": 5
}