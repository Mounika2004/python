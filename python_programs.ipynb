{
  "nbformat": 4,
  "nbformat_minor": 0,
  "metadata": {
    "colab": {
      "name": "python programs",
      "provenance": [],
      "authorship_tag": "ABX9TyPF1df6NiL/alV3BurZbsDx",
      "include_colab_link": true
    },
    "kernelspec": {
      "name": "python3",
      "display_name": "Python 3"
    },
    "language_info": {
      "name": "python"
    }
  },
  "cells": [
    {
      "cell_type": "markdown",
      "metadata": {
        "id": "view-in-github",
        "colab_type": "text"
      },
      "source": [
        "<a href=\"https://colab.research.google.com/github/Mounika2004/python/blob/main/python_programs.ipynb\" target=\"_parent\"><img src=\"https://colab.research.google.com/assets/colab-badge.svg\" alt=\"Open In Colab\"/></a>"
      ]
    },
    {
      "cell_type": "code",
      "execution_count": null,
      "metadata": {
        "id": "_dQn7NQ_kV_x"
      },
      "outputs": [],
      "source": [
        "## Write a python program to find power of number with recursion and without recursion(input n=2 , p=3)"
      ]
    },
    {
      "cell_type": "code",
      "source": [
        "def power(x,y):\n",
        "  if(y==0):\n",
        "    return 1\n",
        "  return (x*power(x,y-1))\n",
        "x=int(input(\"enter the number:\"))\n",
        "y=int(input(\"enter the power:\"))\n",
        "print(power(x,y))\n",
        "     \n",
        "\n",
        "\n",
        "\n"
      ],
      "metadata": {
        "colab": {
          "base_uri": "https://localhost:8080/"
        },
        "id": "maRURS5ekjFb",
        "outputId": "fa1e8201-fb25-4614-87aa-8b406a0c9515"
      },
      "execution_count": 57,
      "outputs": [
        {
          "output_type": "stream",
          "name": "stdout",
          "text": [
            "enter the number:4\n",
            "enter the power:2\n",
            "16\n"
          ]
        }
      ]
    },
    {
      "cell_type": "code",
      "source": [
        "## write a program to sort tuple by total digits (input: list=[(3,4,6,723),(1,2),(134,234,34)])\n",
        "     ##  output:[(1,2)(3,4,6,723)(34,134,234)]"
      ],
      "metadata": {
        "id": "vlMifaSmqWdR"
      },
      "execution_count": null,
      "outputs": []
    },
    {
      "cell_type": "code",
      "source": [
        "a=[(1,2),(3,4,6,723),(134,234,34)]\n",
        "for i in range(0,len(a)):\n",
        "  a[i]=sorted(a[i])\n",
        "print(sorted(a))"
      ],
      "metadata": {
        "colab": {
          "base_uri": "https://localhost:8080/"
        },
        "id": "8xkNSLprqjih",
        "outputId": "2971095a-4c2f-4cf9-b66d-8174dfdbfbbf"
      },
      "execution_count": 25,
      "outputs": [
        {
          "output_type": "stream",
          "name": "stdout",
          "text": [
            "[[1, 2], [3, 4, 6, 723], [34, 134, 234]]\n"
          ]
        }
      ]
    },
    {
      "cell_type": "code",
      "source": [
        " ## take five subjects from the user and display the grade of the student,if average is 90-100(o),80-89(a+),70-79(a).."
      ],
      "metadata": {
        "id": "ezwAiX2FrtaX"
      },
      "execution_count": null,
      "outputs": []
    },
    {
      "cell_type": "code",
      "source": [
        "sub1=int(input(\"Enter marks of the first subject: \"))\n",
        "sub2=int(input(\"Enter marks of the second subject: \"))\n",
        "sub3=int(input(\"Enter marks of the third subject: \"))\n",
        "sub4=int(input(\"Enter marks of the fourth subject: \"))\n",
        "sub5=int(input(\"Enter marks of the fifth subject: \"))\n",
        "avg=(sub1+sub2+sub3+sub4+sub5)/5\n",
        "if(avg>=90):\n",
        "    print(\"Grade: o\")\n",
        "elif(avg>=80 and avg<90):\n",
        "    print(\"Grade: a+\")\n",
        "elif(avg>=70 and avg<79):\n",
        "    print(\"Grade: a\")\n",
        "elif(avg>=60 and avg<70):\n",
        "    print(\"Grade: b\")\n",
        "else:\n",
        "    print(\"Grade: Fail\")"
      ],
      "metadata": {
        "id": "rRuTPWBrr_IH",
        "colab": {
          "base_uri": "https://localhost:8080/"
        },
        "outputId": "6ed064e9-2edb-4db0-a961-118c2612f48b"
      },
      "execution_count": 45,
      "outputs": [
        {
          "output_type": "stream",
          "name": "stdout",
          "text": [
            "Enter marks of the first subject: 90\n",
            "Enter marks of the second subject: 89\n",
            "Enter marks of the third subject: 78\n",
            "Enter marks of the fourth subject: 65\n",
            "Enter marks of the fifth subject: 45\n",
            "Grade: a\n"
          ]
        }
      ]
    },
    {
      "cell_type": "code",
      "source": [
        "## write a python program that prints 1 if all three given numbers are ascending order."
      ],
      "metadata": {
        "id": "s-_jah4jt8GG"
      },
      "execution_count": 24,
      "outputs": []
    },
    {
      "cell_type": "code",
      "source": [
        "a=int(input(\"enter the number:\"))\n",
        "b=int(input(\"enter the number:\"))\n",
        "c=int(input(\"enter the number:\"))\n",
        "if a>b>c:\n",
        "  print(\"1\")\n",
        "else:\n",
        "  print(\"0\")\n"
      ],
      "metadata": {
        "colab": {
          "base_uri": "https://localhost:8080/"
        },
        "id": "BjYmE2kMuH0P",
        "outputId": "aa5f8414-005e-4bdc-a13c-8860c975f633"
      },
      "execution_count": 32,
      "outputs": [
        {
          "output_type": "stream",
          "name": "stdout",
          "text": [
            "enter the number:99\n",
            "enter the number:89\n",
            "enter the number:66\n",
            "1\n"
          ]
        }
      ]
    },
    {
      "cell_type": "code",
      "source": [
        "## check a given number is perfect number are not"
      ],
      "metadata": {
        "id": "88v648T5wWeO"
      },
      "execution_count": 33,
      "outputs": []
    },
    {
      "cell_type": "code",
      "source": [
        "m=int(input(\"enter any number:\"))\n",
        "sum1=0\n",
        "for i in range(1,m):\n",
        "  if(m%i==0):\n",
        "    sum1=sum1+m\n",
        "if(sum1==m):\n",
        "  print(\"the number is a perfect number!\")\n",
        "else:\n",
        "  print(\"the number is not a perfect number!\")\n",
        "  "
      ],
      "metadata": {
        "colab": {
          "base_uri": "https://localhost:8080/"
        },
        "id": "1JY7hLrYwh9h",
        "outputId": "5688546d-6a6c-44af-d943-d256243ae9cc"
      },
      "execution_count": 35,
      "outputs": [
        {
          "output_type": "stream",
          "name": "stdout",
          "text": [
            "enter any number:78\n",
            "the number is not a perfect number!\n"
          ]
        }
      ]
    },
    {
      "cell_type": "code",
      "source": [
        "## check a given string is a pallindrome or not"
      ],
      "metadata": {
        "id": "Yyi_zcPLxslu"
      },
      "execution_count": 36,
      "outputs": []
    },
    {
      "cell_type": "code",
      "source": [
        "def palindrome(a):\n",
        "  return a ==a[::-1]\n",
        "a=\"malayalam\"\n",
        "ans=palindrome(a)\n",
        "if ans:\n",
        "  print(\"Yes\")\n",
        "else:\n",
        "  print(\"No\")"
      ],
      "metadata": {
        "colab": {
          "base_uri": "https://localhost:8080/"
        },
        "id": "LEU0jU3ox3Zu",
        "outputId": "e79c7f15-9990-41d3-8600-fcea6a1a0558"
      },
      "execution_count": 58,
      "outputs": [
        {
          "output_type": "stream",
          "name": "stdout",
          "text": [
            "Yes\n"
          ]
        }
      ]
    },
    {
      "cell_type": "code",
      "source": [
        "##find the gcd of two numbers with and without recursion(5,3=1)\n",
        "import math\n",
        "a=int(input(\"enter a number\"))\n",
        "b=int(input(\"enter the number\"))\n",
        "print(\"GCD of a and b :\",end=\"\")\n",
        "print(math.gcd(a,b))"
      ],
      "metadata": {
        "colab": {
          "base_uri": "https://localhost:8080/"
        },
        "id": "GQ9YOigV5NN7",
        "outputId": "acaf48d9-5921-49af-8401-4d6b8bdec7c8"
      },
      "execution_count": 59,
      "outputs": [
        {
          "output_type": "stream",
          "name": "stdout",
          "text": [
            "enter a number6\n",
            "enter the number5\n",
            "GCD of a and b :1\n"
          ]
        }
      ]
    }
  ]
}