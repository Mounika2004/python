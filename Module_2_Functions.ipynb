{
  "nbformat": 4,
  "nbformat_minor": 0,
  "metadata": {
    "colab": {
      "name": "Module 2 Functions",
      "provenance": [],
      "authorship_tag": "ABX9TyNeQAJb0sAL/mfN4tpipv+g",
      "include_colab_link": true
    },
    "kernelspec": {
      "name": "python3",
      "display_name": "Python 3"
    },
    "language_info": {
      "name": "python"
    }
  },
  "cells": [
    {
      "cell_type": "markdown",
      "metadata": {
        "id": "view-in-github",
        "colab_type": "text"
      },
      "source": [
        "<a href=\"https://colab.research.google.com/github/Mounika2004/python/blob/main/Module_2_Functions.ipynb\" target=\"_parent\"><img src=\"https://colab.research.google.com/assets/colab-badge.svg\" alt=\"Open In Colab\"/></a>"
      ]
    },
    {
      "cell_type": "code",
      "execution_count": 4,
      "metadata": {
        "id": "HJJUxtnApA7j"
      },
      "outputs": [],
      "source": [
        "## Create a function which accepts two inputs from the user and compute ncr"
      ]
    },
    {
      "cell_type": "code",
      "source": [
        "def nCr(a,b):\n",
        "  return (fact(a)/(fact(b)\n",
        "                 *fact(a-b)))\n",
        "a=int(input(\"\"))\n",
        "b=int(input(\"\"))\n",
        "def fact(a):\n",
        "    res=1\n",
        "    for i in range (2,a+1):\n",
        "      res=res*i\n",
        "    return res\n",
        "print(int(nCr(a,b)))"
      ],
      "metadata": {
        "colab": {
          "base_uri": "https://localhost:8080/"
        },
        "id": "3vasMZdCrfIU",
        "outputId": "a6a2e331-97e7-4404-a95e-fc16699af507"
      },
      "execution_count": 11,
      "outputs": [
        {
          "output_type": "stream",
          "name": "stdout",
          "text": [
            "5\n",
            "2\n",
            "10\n"
          ]
        }
      ]
    },
    {
      "cell_type": "code",
      "source": [
        "##Program to print a specified list after removing the 0th, 4th and 5th elements.\n",
        "##Sample List : ['Red', 'Green', 'White', 'Black', 'Pink', 'Yellow']\n",
        "##Expected Output : ['Green', 'White', 'Black']\n",
        "colours=['Red','Green','White','Black','Pink','Yellow']\n",
        "del colours[0]\n",
        "del colours[3]\n",
        "del colours[3]\n",
        "print(colours)"
      ],
      "metadata": {
        "colab": {
          "base_uri": "https://localhost:8080/"
        },
        "id": "B1xG3-WpvxKD",
        "outputId": "c306537d-3980-44b2-badc-5c55eadbc480"
      },
      "execution_count": 19,
      "outputs": [
        {
          "output_type": "stream",
          "name": "stdout",
          "text": [
            "['Green', 'White', 'Black']\n"
          ]
        }
      ]
    },
    {
      "cell_type": "code",
      "source": [
        ""
      ],
      "metadata": {
        "id": "qD4KQqpty_eZ"
      },
      "execution_count": null,
      "outputs": []
    }
  ]
}