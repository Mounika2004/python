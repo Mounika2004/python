{
  "nbformat": 4,
  "nbformat_minor": 0,
  "metadata": {
    "colab": {
      "name": "Loops",
      "provenance": [],
      "authorship_tag": "ABX9TyN/ZCRIIVxvouxvxusGI4ri",
      "include_colab_link": true
    },
    "kernelspec": {
      "name": "python3",
      "display_name": "Python 3"
    },
    "language_info": {
      "name": "python"
    }
  },
  "cells": [
    {
      "cell_type": "markdown",
      "metadata": {
        "id": "view-in-github",
        "colab_type": "text"
      },
      "source": [
        "<a href=\"https://colab.research.google.com/github/Mounika2004/python/blob/main/Loops.ipynb\" target=\"_parent\"><img src=\"https://colab.research.google.com/assets/colab-badge.svg\" alt=\"Open In Colab\"/></a>"
      ]
    },
    {
      "cell_type": "code",
      "execution_count": null,
      "metadata": {
        "colab": {
          "base_uri": "https://localhost:8080/"
        },
        "id": "rUdS9hq200ON",
        "outputId": "68ed0cd5-4ee7-4662-872e-cd7554a8bd10"
      },
      "outputs": [
        {
          "output_type": "stream",
          "name": "stdout",
          "text": [
            "apple\n",
            "banana\n",
            "kiwi\n",
            "pomogranate\n",
            "orange\n"
          ]
        }
      ],
      "source": [
        "fruits = [\"apple\",\"banana\",\"kiwi\",\"pomogranate\",\"orange\"]\n",
        "for x in fruits:\n",
        "    print(x)"
      ]
    },
    {
      "cell_type": "code",
      "source": [
        "## loop lists"
      ],
      "metadata": {
        "id": "QUO55c102rdP"
      },
      "execution_count": null,
      "outputs": []
    },
    {
      "cell_type": "code",
      "source": [
        "fruits = [\"apple\",\"banana\",\"kiwi\",\"pomogranate\",\"orange\"]\n",
        "for x in fruits:\n",
        "   print(x)"
      ],
      "metadata": {
        "colab": {
          "base_uri": "https://localhost:8080/"
        },
        "id": "I-iTBG3F2tpN",
        "outputId": "e176a7ed-8695-4484-c096-2b6303dda05d"
      },
      "execution_count": null,
      "outputs": [
        {
          "output_type": "stream",
          "name": "stdout",
          "text": [
            "apple\n",
            "banana\n",
            "kiwi\n",
            "pomogranate\n",
            "orange\n"
          ]
        }
      ]
    },
    {
      "cell_type": "code",
      "source": [
        "## loop through index numbers"
      ],
      "metadata": {
        "id": "amK7tcRW2759"
      },
      "execution_count": null,
      "outputs": []
    },
    {
      "cell_type": "code",
      "source": [
        "watches = [\"fossil\",\"titan\",\"fastrack\",\"sonata\",\"quartz\"]\n",
        "for i in range (len(watches)):\n",
        "   print(watches[0])\n",
        " "
      ],
      "metadata": {
        "colab": {
          "base_uri": "https://localhost:8080/"
        },
        "id": "pjHvSYS-3EYd",
        "outputId": "409f471b-0412-4ef6-bf42-b6aa036b832c"
      },
      "execution_count": null,
      "outputs": [
        {
          "output_type": "stream",
          "name": "stdout",
          "text": [
            "fossil\n",
            "fossil\n",
            "fossil\n",
            "fossil\n",
            "fossil\n"
          ]
        }
      ]
    },
    {
      "cell_type": "code",
      "source": [
        "## lists of while loop"
      ],
      "metadata": {
        "id": "kXAi-YVi30xG"
      },
      "execution_count": null,
      "outputs": []
    },
    {
      "cell_type": "code",
      "source": [
        "watches = [\"fossil\",\"titan\",\"fastrack\",\"sonata\",\"quartz\"]\n",
        "i=0\n",
        "while i < len(watches):\n",
        "    print(watches[i])\n",
        "    i = i + 1"
      ],
      "metadata": {
        "colab": {
          "base_uri": "https://localhost:8080/"
        },
        "id": "rI9be1bV4R-d",
        "outputId": "fc4385a5-077c-4433-a564-efd01ea113bf"
      },
      "execution_count": null,
      "outputs": [
        {
          "output_type": "stream",
          "name": "stdout",
          "text": [
            "fossil\n",
            "titan\n",
            "fastrack\n",
            "sonata\n",
            "quartz\n"
          ]
        }
      ]
    },
    {
      "cell_type": "code",
      "source": [
        "## loops using list comprehension"
      ],
      "metadata": {
        "id": "ihGUUn7I6QJe"
      },
      "execution_count": null,
      "outputs": []
    },
    {
      "cell_type": "code",
      "source": [
        "watches = [\"fossil\",\"titan\",\"fastrack\",\"sonata\",\"quartz\"]\n",
        "[print(x) for x in watches]"
      ],
      "metadata": {
        "colab": {
          "base_uri": "https://localhost:8080/"
        },
        "id": "AD0-ImoP6Wsd",
        "outputId": "aa180e7b-1063-4e75-df5a-cdd1f5a51f64"
      },
      "execution_count": null,
      "outputs": [
        {
          "output_type": "stream",
          "name": "stdout",
          "text": [
            "fossil\n",
            "titan\n",
            "fastrack\n",
            "sonata\n",
            "quartz\n"
          ]
        },
        {
          "output_type": "execute_result",
          "data": {
            "text/plain": [
              "[None, None, None, None, None]"
            ]
          },
          "metadata": {},
          "execution_count": 18
        }
      ]
    },
    {
      "cell_type": "code",
      "source": [
        "## Loop Sets"
      ],
      "metadata": {
        "id": "wRzvwAQN6ne9"
      },
      "execution_count": null,
      "outputs": []
    },
    {
      "cell_type": "code",
      "source": [
        "watches = [\"fossil\",\"titan\",\"fastrack\",\"sonata\",\"quartz\"]\n",
        "\n",
        "for x in watches:\n",
        "     print(x)"
      ],
      "metadata": {
        "colab": {
          "base_uri": "https://localhost:8080/"
        },
        "id": "3LZquhKo6zd9",
        "outputId": "b12d1a43-614c-4f50-d156-00912ce63e71"
      },
      "execution_count": null,
      "outputs": [
        {
          "output_type": "stream",
          "name": "stdout",
          "text": [
            "fossil\n",
            "titan\n",
            "fastrack\n",
            "sonata\n",
            "quartz\n"
          ]
        }
      ]
    },
    {
      "cell_type": "code",
      "source": [
        "## Loop Tuples"
      ],
      "metadata": {
        "id": "PL8zrkl17NQO"
      },
      "execution_count": null,
      "outputs": []
    },
    {
      "cell_type": "code",
      "source": [
        "watches = [\"fossil\",\"titan\",\"fastrack\",\"sonata\",\"quartz\"]\n",
        "for x  in  watches:\n",
        "    print(x)"
      ],
      "metadata": {
        "colab": {
          "base_uri": "https://localhost:8080/"
        },
        "id": "vSXmEC_d7hdN",
        "outputId": "65dad8a4-5c55-48c7-c65e-a80c99fd9b21"
      },
      "execution_count": null,
      "outputs": [
        {
          "output_type": "stream",
          "name": "stdout",
          "text": [
            "fossil\n",
            "titan\n",
            "fastrack\n",
            "sonata\n",
            "quartz\n"
          ]
        }
      ]
    },
    {
      "cell_type": "code",
      "source": [
        "## tuple through index numbers"
      ],
      "metadata": {
        "id": "SByfryRs70cX"
      },
      "execution_count": null,
      "outputs": []
    },
    {
      "cell_type": "code",
      "source": [
        "watches = [\"fossil\",\"titan\",\"fastrack\",\"sonata\",\"quartz\"]\n",
        "for i in range (len(watches)):\n",
        "   print(watches[2])\n",
        " "
      ],
      "metadata": {
        "colab": {
          "base_uri": "https://localhost:8080/"
        },
        "id": "wmjKbkWK8QMd",
        "outputId": "18f25763-5947-426c-b5e7-2982c7e2b445"
      },
      "execution_count": null,
      "outputs": [
        {
          "output_type": "stream",
          "name": "stdout",
          "text": [
            "fastrack\n",
            "fastrack\n",
            "fastrack\n",
            "fastrack\n",
            "fastrack\n"
          ]
        }
      ]
    },
    {
      "cell_type": "code",
      "source": [
        "## tuple while loop"
      ],
      "metadata": {
        "id": "0rE1xrHj8joe"
      },
      "execution_count": null,
      "outputs": []
    },
    {
      "cell_type": "code",
      "source": [
        "watches = [\"fossil\",\"titan\",\"fastrack\",\"sonata\",\"quartz\"]\n",
        "i = 0\n",
        "while i < len(watches):\n",
        "   print(watches[i])\n",
        "   i = i + 1"
      ],
      "metadata": {
        "colab": {
          "base_uri": "https://localhost:8080/"
        },
        "id": "q4_DRl3V8mNN",
        "outputId": "b8d31336-98bc-4152-cf9e-58121176a2d2"
      },
      "execution_count": null,
      "outputs": [
        {
          "output_type": "stream",
          "name": "stdout",
          "text": [
            "fossil\n",
            "titan\n",
            "fastrack\n",
            "sonata\n",
            "quartz\n"
          ]
        }
      ]
    },
    {
      "cell_type": "code",
      "source": [
        "## lists comprehensions"
      ],
      "metadata": {
        "id": "7aguiMVg-jtd"
      },
      "execution_count": null,
      "outputs": []
    },
    {
      "cell_type": "code",
      "source": [
        "n = [\"apple\",\"banana\",\"kiwi\",\"pomogranate\",\"orange\"]\n",
        "newlist = []\n",
        "for x in n:\n",
        "  if \"a\" in x:\n",
        "    newlist.append(x)\n",
        "print(newlist)"
      ],
      "metadata": {
        "colab": {
          "base_uri": "https://localhost:8080/"
        },
        "id": "Yp8w67FQ-mot",
        "outputId": "41895d86-a48b-4f9f-9db4-d9effd58e853"
      },
      "execution_count": null,
      "outputs": [
        {
          "output_type": "stream",
          "name": "stdout",
          "text": [
            "['apple', 'banana', 'pomogranate', 'orange']\n"
          ]
        }
      ]
    },
    {
      "cell_type": "code",
      "source": [
        "### With list comprehension you can do all that with only one line of code:"
      ],
      "metadata": {
        "id": "3q4-B69EBPbe"
      },
      "execution_count": null,
      "outputs": []
    },
    {
      "cell_type": "code",
      "source": [
        "fruits = [\"apple\",\"banana\",\"kiwi\",\"pomogranate\",\"orange\"]\n",
        "newlist = [x  for  x  in fruits if \"a\" in x]\n",
        "print(newlist)"
      ],
      "metadata": {
        "colab": {
          "base_uri": "https://localhost:8080/"
        },
        "id": "ShP0_cvMBRqN",
        "outputId": "cd8f21d8-ab66-4e04-bd17-e028e2d7051a"
      },
      "execution_count": null,
      "outputs": [
        {
          "output_type": "stream",
          "name": "stdout",
          "text": [
            "['apple', 'banana', 'pomogranate', 'orange']\n"
          ]
        }
      ]
    }
  ]
}