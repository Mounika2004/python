{
  "nbformat": 4,
  "nbformat_minor": 0,
  "metadata": {
    "colab": {
      "name": "Copy of methods ofstrings",
      "provenance": [],
      "authorship_tag": "ABX9TyPwfM5GC703JV0HzyEHI5jS",
      "include_colab_link": true
    },
    "kernelspec": {
      "name": "python3",
      "display_name": "Python 3"
    },
    "language_info": {
      "name": "python"
    }
  },
  "cells": [
    {
      "cell_type": "markdown",
      "metadata": {
        "id": "view-in-github",
        "colab_type": "text"
      },
      "source": [
        "<a href=\"https://colab.research.google.com/github/Mounika2004/python/blob/main/Copy_of_methods_ofstrings.ipynb\" target=\"_parent\"><img src=\"https://colab.research.google.com/assets/colab-badge.svg\" alt=\"Open In Colab\"/></a>"
      ]
    },
    {
      "cell_type": "code",
      "execution_count": null,
      "metadata": {
        "id": "IApjvziX62I3"
      },
      "outputs": [],
      "source": [
        "## strings"
      ]
    },
    {
      "cell_type": "code",
      "source": [
        "a='Mounika'\n",
        "print(a)\n",
        "print(type(a))\n",
        "print(a[1])"
      ],
      "metadata": {
        "colab": {
          "base_uri": "https://localhost:8080/"
        },
        "id": "L9YhE13964Uf",
        "outputId": "9f346dee-60bd-4e3c-a004-63cbc7482362"
      },
      "execution_count": null,
      "outputs": [
        {
          "output_type": "stream",
          "name": "stdout",
          "text": [
            "Mounika\n",
            "<class 'str'>\n",
            "o\n"
          ]
        }
      ]
    },
    {
      "cell_type": "code",
      "source": [
        "## lenght of a string"
      ],
      "metadata": {
        "id": "OnPvod5U7ePP"
      },
      "execution_count": null,
      "outputs": []
    },
    {
      "cell_type": "code",
      "source": [
        "a=\"string\"\n",
        "print(len(a))"
      ],
      "metadata": {
        "colab": {
          "base_uri": "https://localhost:8080/"
        },
        "id": "Zz9IJ4KL8BPu",
        "outputId": "1ff24ef0-eb11-41be-870f-e6c4c360dce4"
      },
      "execution_count": null,
      "outputs": [
        {
          "output_type": "stream",
          "name": "stdout",
          "text": [
            "6\n"
          ]
        }
      ]
    },
    {
      "cell_type": "code",
      "source": [
        "a=\"Mounika Reddy\"\n",
        "print(len(a))"
      ],
      "metadata": {
        "colab": {
          "base_uri": "https://localhost:8080/"
        },
        "id": "AsbDFSOA8cyu",
        "outputId": "a2625494-4764-4e08-af6d-2cd070b7aa91"
      },
      "execution_count": null,
      "outputs": [
        {
          "output_type": "stream",
          "name": "stdout",
          "text": [
            "13\n"
          ]
        }
      ]
    },
    {
      "cell_type": "code",
      "source": [
        "a=\"RRR Movie has been released\"\n",
        "print(\"RRR\" in a)\n"
      ],
      "metadata": {
        "colab": {
          "base_uri": "https://localhost:8080/"
        },
        "id": "S1L2SnIq8p8J",
        "outputId": "df3966fb-46a2-4807-80e5-1cde33efac62"
      },
      "execution_count": null,
      "outputs": [
        {
          "output_type": "stream",
          "name": "stdout",
          "text": [
            "True\n"
          ]
        }
      ]
    },
    {
      "cell_type": "code",
      "source": [
        "a=\"RRR Movie has been released\"\n",
        "print(\"F\" in a )\n"
      ],
      "metadata": {
        "colab": {
          "base_uri": "https://localhost:8080/"
        },
        "id": "hsgUFqL_9UQt",
        "outputId": "2a067972-e98f-4f15-fcf3-01eb44b0bbd5"
      },
      "execution_count": null,
      "outputs": [
        {
          "output_type": "stream",
          "name": "stdout",
          "text": [
            "False\n"
          ]
        }
      ]
    },
    {
      "cell_type": "code",
      "source": [
        "## slicing"
      ],
      "metadata": {
        "id": "RUpAYEzG9rIN"
      },
      "execution_count": null,
      "outputs": []
    },
    {
      "cell_type": "code",
      "source": [
        "a=\"RRR Movie has been released\"\n",
        "print(a[2:5])"
      ],
      "metadata": {
        "colab": {
          "base_uri": "https://localhost:8080/"
        },
        "id": "QuZ47lHK9uDU",
        "outputId": "a00e76d3-50d2-4113-c870-76a7831eee1c"
      },
      "execution_count": null,
      "outputs": [
        {
          "output_type": "stream",
          "name": "stdout",
          "text": [
            "R M\n"
          ]
        }
      ]
    },
    {
      "cell_type": "code",
      "source": [
        "## modify strings"
      ],
      "metadata": {
        "id": "NE2KyDo5YJqL"
      },
      "execution_count": null,
      "outputs": []
    },
    {
      "cell_type": "code",
      "source": [
        "\"RRR Movie has beea=n released\"\n",
        "print(a.upper())\n",
        "\n",
        "a=\"RRR Movie has been released\"\n",
        "print(a.lower())\n"
      ],
      "metadata": {
        "colab": {
          "base_uri": "https://localhost:8080/"
        },
        "id": "Q5QWf9DiYO7Y",
        "outputId": "d0ed50bf-9acb-4609-9d35-704f4d170e5a"
      },
      "execution_count": null,
      "outputs": [
        {
          "output_type": "stream",
          "name": "stdout",
          "text": [
            "RRR MOVIE HAS BEEN RELEASED\n",
            "rrr movie has been released\n"
          ]
        }
      ]
    },
    {
      "cell_type": "code",
      "source": [
        "## strip(remove whitespaces)"
      ],
      "metadata": {
        "id": "IZu_Oa50Y9YO"
      },
      "execution_count": null,
      "outputs": []
    },
    {
      "cell_type": "code",
      "source": [
        "a=\"        RRR Movie has been released \"\n",
        "print(a.strip())"
      ],
      "metadata": {
        "colab": {
          "base_uri": "https://localhost:8080/"
        },
        "id": "ek-HwupeZA6F",
        "outputId": "358a345c-80a4-4acd-a42c-57dc4dea2811"
      },
      "execution_count": null,
      "outputs": [
        {
          "output_type": "stream",
          "name": "stdout",
          "text": [
            "RRR Movie has been released\n"
          ]
        }
      ]
    },
    {
      "cell_type": "code",
      "source": [
        "## Replace Strings"
      ],
      "metadata": {
        "id": "-_9uqGjHZwgN"
      },
      "execution_count": null,
      "outputs": []
    },
    {
      "cell_type": "code",
      "source": [
        "a=\"RRR Movie has been released\"\n",
        "print(a.replace(\"RRR\",\"radhe\"))\n",
        "print(a)"
      ],
      "metadata": {
        "colab": {
          "base_uri": "https://localhost:8080/"
        },
        "id": "OUYj3rpUZ6V7",
        "outputId": "b1f4c07d-c2de-484a-bf89-732f2cb2cd05"
      },
      "execution_count": null,
      "outputs": [
        {
          "output_type": "stream",
          "name": "stdout",
          "text": [
            "radhe Movie has been released\n",
            "RRR Movie has been released\n"
          ]
        }
      ]
    },
    {
      "cell_type": "code",
      "source": [
        "## split string"
      ],
      "metadata": {
        "id": "UZ2qOU0PaqY8"
      },
      "execution_count": null,
      "outputs": []
    },
    {
      "cell_type": "code",
      "source": [
        "a=\"RRR Movie has been released\"\n",
        "print(a.split(\" ,\"))"
      ],
      "metadata": {
        "colab": {
          "base_uri": "https://localhost:8080/"
        },
        "id": "hHHGk_gMcAWs",
        "outputId": "1225354b-e8f1-4ece-c071-db009bf14836"
      },
      "execution_count": null,
      "outputs": [
        {
          "output_type": "stream",
          "name": "stdout",
          "text": [
            "['RRR Movie has been released']\n"
          ]
        }
      ]
    },
    {
      "cell_type": "code",
      "source": [
        "## spliting spearately"
      ],
      "metadata": {
        "id": "QH3AElyedBsM"
      },
      "execution_count": null,
      "outputs": []
    },
    {
      "cell_type": "code",
      "source": [
        "a=\"RRR Movie has been released\"\n",
        "print(a.split( ))"
      ],
      "metadata": {
        "colab": {
          "base_uri": "https://localhost:8080/"
        },
        "id": "VUo-pzdidS4L",
        "outputId": "e11992eb-a7d1-4349-fd84-280dd35b7113"
      },
      "execution_count": null,
      "outputs": [
        {
          "output_type": "stream",
          "name": "stdout",
          "text": [
            "['RRR', 'Movie', 'has', 'been', 'released']\n"
          ]
        }
      ]
    },
    {
      "cell_type": "code",
      "source": [
        "## concatenate strings"
      ],
      "metadata": {
        "id": "vUYExnCSdkm6"
      },
      "execution_count": null,
      "outputs": []
    },
    {
      "cell_type": "code",
      "source": [
        "a = \"RRR Movie has been released\"\n",
        "b = \"I went to movie with my friends\"\n",
        "c = a+b\n",
        "print(c)"
      ],
      "metadata": {
        "colab": {
          "base_uri": "https://localhost:8080/"
        },
        "id": "fsDBtzG3dn0q",
        "outputId": "bfc422dd-421e-4c10-96c2-6ae7a04c3e23"
      },
      "execution_count": null,
      "outputs": [
        {
          "output_type": "stream",
          "name": "stdout",
          "text": [
            "RRR Movie has been releasedI went to movie with my friends\n"
          ]
        }
      ]
    },
    {
      "cell_type": "code",
      "source": [
        "a = \"Hello\"\n",
        "b = \"World\"\n",
        "c = a + b\n",
        "print(c)\n"
      ],
      "metadata": {
        "colab": {
          "base_uri": "https://localhost:8080/"
        },
        "id": "Wqd96L36e2S8",
        "outputId": "b9b703fc-80ac-4e73-dbed-4cb7294bb8dc"
      },
      "execution_count": null,
      "outputs": [
        {
          "output_type": "stream",
          "name": "stdout",
          "text": [
            "HelloWorld\n"
          ]
        }
      ]
    },
    {
      "cell_type": "code",
      "source": [
        "## addding a space between them"
      ],
      "metadata": {
        "id": "q4SNzB7jfaZ6"
      },
      "execution_count": null,
      "outputs": []
    },
    {
      "cell_type": "code",
      "source": [
        "a = \"Hello\"\n",
        "b = \"World\"\n",
        "c = a + \" \" + b\n",
        "print(c)\n"
      ],
      "metadata": {
        "colab": {
          "base_uri": "https://localhost:8080/"
        },
        "id": "fKyncxMafhJb",
        "outputId": "9ae9de43-8813-41c4-e09c-75b49c647c44"
      },
      "execution_count": null,
      "outputs": [
        {
          "output_type": "stream",
          "name": "stdout",
          "text": [
            "Hello World\n"
          ]
        }
      ]
    },
    {
      "cell_type": "code",
      "source": [
        "price=150\n",
        "quantity=3\n",
        "item=1\n",
        "name=\"sprite\"\n",
        "myorder=\"i buyed {3} with {0} having {1}  and purchased {2}\"\n",
        "print(myorder.format(price,quantity,item,name))"
      ],
      "metadata": {
        "colab": {
          "base_uri": "https://localhost:8080/"
        },
        "id": "csysGkUmfrA6",
        "outputId": "0d8e3b8f-41e3-46e6-a1ad-b7e5816ff54d"
      },
      "execution_count": null,
      "outputs": [
        {
          "output_type": "stream",
          "name": "stdout",
          "text": [
            "i buyed sprite with 150 having 3  and purchased 1\n"
          ]
        }
      ]
    },
    {
      "cell_type": "code",
      "source": [
        "subj1=int(input(\"enter the math marks\"))\n",
        "subj2=int(input(\"enter the eng marks\"))\n",
        "subj3=int(input(\"enter the chem marks\"))\n",
        "subj4=int(input(\"enter the cse marks\"))\n",
        "marks=\"my math marks are {0},eng marks are {1},chem marks are {2},cse marks are {3}\"\n",
        "print(marks.format(subj1,subj2,subj3,subj4))"
      ],
      "metadata": {
        "colab": {
          "base_uri": "https://localhost:8080/"
        },
        "id": "o-Q2RcjxfuTK",
        "outputId": "8f3629b8-9aee-404b-e9c3-3539b204ed16"
      },
      "execution_count": null,
      "outputs": [
        {
          "output_type": "stream",
          "name": "stdout",
          "text": [
            "enter the math marks87\n",
            "enter the eng marks90\n",
            "enter the chem marks98\n",
            "enter the cse marks78\n",
            "my math marks are 87,eng marks are 90,chem marks are 98,cse marks are 78\n"
          ]
        }
      ]
    },
    {
      "cell_type": "code",
      "source": [
        "## characters"
      ],
      "metadata": {
        "id": "Petu1QTKoX8y"
      },
      "execution_count": null,
      "outputs": []
    },
    {
      "cell_type": "code",
      "source": [
        "C=\"Hello\\bMounika\"\n",
        "print(a)\n"
      ],
      "metadata": {
        "colab": {
          "base_uri": "https://localhost:8080/"
        },
        "id": "J-pPXjStofcB",
        "outputId": "a122efac-c845-45ef-9752-d98e405f1227"
      },
      "execution_count": null,
      "outputs": [
        {
          "output_type": "stream",
          "name": "stdout",
          "text": [
            "Hello\n"
          ]
        }
      ]
    },
    {
      "cell_type": "code",
      "source": [
        "## octal"
      ],
      "metadata": {
        "id": "5pRWOfAhpV3T"
      },
      "execution_count": null,
      "outputs": []
    },
    {
      "cell_type": "code",
      "source": [
        "a= \"\\110\\145\\154\\154\\157\"\n",
        "print(a)"
      ],
      "metadata": {
        "colab": {
          "base_uri": "https://localhost:8080/"
        },
        "id": "kdlXV6TQpXmq",
        "outputId": "0c809f12-eca8-4c28-b4f2-e48d1e7d2e47"
      },
      "execution_count": null,
      "outputs": [
        {
          "output_type": "stream",
          "name": "stdout",
          "text": [
            "Hello\n"
          ]
        }
      ]
    },
    {
      "cell_type": "code",
      "source": [
        "## string methods(capitalize)"
      ],
      "metadata": {
        "id": "n-K4JmikqY_D"
      },
      "execution_count": null,
      "outputs": []
    },
    {
      "cell_type": "code",
      "source": [
        "a=\"mounikareddy\"\n",
        "b=a.capitalize()\n",
        "print(b)"
      ],
      "metadata": {
        "colab": {
          "base_uri": "https://localhost:8080/"
        },
        "id": "QujYGPdXqbpK",
        "outputId": "56c871c0-8ee3-4d72-fda5-c31e1d20ca7e"
      },
      "execution_count": null,
      "outputs": [
        {
          "output_type": "stream",
          "name": "stdout",
          "text": [
            "Mounikareddy\n"
          ]
        }
      ]
    },
    {
      "cell_type": "code",
      "source": [
        "## (case fold)"
      ],
      "metadata": {
        "id": "DkZGF9OSrAdr"
      },
      "execution_count": null,
      "outputs": []
    },
    {
      "cell_type": "code",
      "source": [
        "a=\"Mounikareddy\"\n",
        "b=a.casefold()\n",
        "print(b)"
      ],
      "metadata": {
        "colab": {
          "base_uri": "https://localhost:8080/"
        },
        "id": "lluBJ7VMrLYO",
        "outputId": "e4179cfc-c314-4f02-f8d3-426884b4c880"
      },
      "execution_count": null,
      "outputs": [
        {
          "output_type": "stream",
          "name": "stdout",
          "text": [
            "mounikareddy\n"
          ]
        }
      ]
    },
    {
      "cell_type": "code",
      "source": [
        "## (centre)"
      ],
      "metadata": {
        "id": "XA0lwviUrmsy"
      },
      "execution_count": null,
      "outputs": []
    },
    {
      "cell_type": "code",
      "source": [
        "a=\"mounika\"\n",
        "b=a.center(50)\n",
        "print(b)"
      ],
      "metadata": {
        "colab": {
          "base_uri": "https://localhost:8080/"
        },
        "id": "gX_yL7CTroig",
        "outputId": "537b9d01-d7c5-440f-ed3c-f0ebb5fb2015"
      },
      "execution_count": null,
      "outputs": [
        {
          "output_type": "stream",
          "name": "stdout",
          "text": [
            "                     mounika                      \n"
          ]
        }
      ]
    },
    {
      "cell_type": "code",
      "source": [
        "## count"
      ],
      "metadata": {
        "id": "-tTAXafusR2O"
      },
      "execution_count": null,
      "outputs": []
    },
    {
      "cell_type": "code",
      "source": [
        "a=\"welcome to python programming\"\n",
        "b=a.count(\"\")\n",
        "print(b)\n",
        "print(len(a))"
      ],
      "metadata": {
        "colab": {
          "base_uri": "https://localhost:8080/"
        },
        "id": "JUM8ljGisTx9",
        "outputId": "8e4b9055-27fa-464c-ef7f-74a11dffd297"
      },
      "execution_count": null,
      "outputs": [
        {
          "output_type": "stream",
          "name": "stdout",
          "text": [
            "30\n",
            "29\n"
          ]
        }
      ]
    }
  ]
}