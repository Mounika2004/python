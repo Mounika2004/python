{
  "nbformat": 4,
  "nbformat_minor": 0,
  "metadata": {
    "colab": {
      "name": "Copy of  Module5(3).ipynb",
      "provenance": [],
      "authorship_tag": "ABX9TyOWdA6SuooCi+c9Zz1ZWRdw",
      "include_colab_link": true
    },
    "kernelspec": {
      "name": "python3",
      "display_name": "Python 3"
    },
    "language_info": {
      "name": "python"
    }
  },
  "cells": [
    {
      "cell_type": "markdown",
      "metadata": {
        "id": "view-in-github",
        "colab_type": "text"
      },
      "source": [
        "<a href=\"https://colab.research.google.com/github/Mounika2004/python/blob/main/Copy_of_Module5(3).ipynb\" target=\"_parent\"><img src=\"https://colab.research.google.com/assets/colab-badge.svg\" alt=\"Open In Colab\"/></a>"
      ]
    },
    {
      "cell_type": "code",
      "execution_count": null,
      "metadata": {
        "colab": {
          "base_uri": "https://localhost:8080/"
        },
        "id": "UgSRZpn3DDVk",
        "outputId": "28fdc205-985a-425e-af0a-916c350fbddd"
      },
      "outputs": [
        {
          "output_type": "stream",
          "name": "stdout",
          "text": [
            "[]\n"
          ]
        }
      ],
      "source": [
        "## Reg Ex in python\n",
        "import re\n",
        "\n",
        "txt = \"The rain in Spain\"\n",
        "x = re.findall(\"Portugal\", txt)\n",
        "print(x)\n"
      ]
    },
    {
      "cell_type": "code",
      "source": [
        "import re\n",
        "\n",
        "txt = \"The rain in Spain\"\n",
        "x = re.search(\"\\s\", txt)\n",
        "\n",
        "print(\"The first white-space character is located in position:\", x.start())\n"
      ],
      "metadata": {
        "colab": {
          "base_uri": "https://localhost:8080/"
        },
        "id": "qjT3DIzUF3-5",
        "outputId": "1ab057c8-d385-4960-90c9-8127d3f59d97"
      },
      "execution_count": null,
      "outputs": [
        {
          "output_type": "stream",
          "name": "stdout",
          "text": [
            "The first white-space character is located in position: 3\n"
          ]
        }
      ]
    },
    {
      "cell_type": "code",
      "source": [
        "import re\n",
        "\n",
        "txt = \"The rain in Spain\"\n",
        "x = re.search(\"Portugal\", txt)\n",
        "print(x)"
      ],
      "metadata": {
        "colab": {
          "base_uri": "https://localhost:8080/"
        },
        "id": "Y4VgarKbF6If",
        "outputId": "b1a9a68c-25cb-4d7c-d365-131baafae4b7"
      },
      "execution_count": null,
      "outputs": [
        {
          "output_type": "stream",
          "name": "stdout",
          "text": [
            "None\n"
          ]
        }
      ]
    },
    {
      "cell_type": "code",
      "source": [
        "## Split function\n",
        "(## makes no return match)\n",
        "import re\n",
        "\n",
        "txt = \"The rain in Spain\"\n",
        "x = re.search(\"Portugal\", txt)\n",
        "print(x)"
      ],
      "metadata": {
        "colab": {
          "base_uri": "https://localhost:8080/"
        },
        "id": "33PsgzUoF954",
        "outputId": "8bca981e-8afa-413e-d3e7-86355e93e4e3"
      },
      "execution_count": null,
      "outputs": [
        {
          "output_type": "stream",
          "name": "stdout",
          "text": [
            "None\n"
          ]
        }
      ]
    },
    {
      "cell_type": "code",
      "source": [
        "## split at each white space character\n",
        "import re\n",
        "\n",
        "txt = \"The rain in Spain\"\n",
        "x = re.split(\"\\s\", txt)\n",
        "print(x)"
      ],
      "metadata": {
        "colab": {
          "base_uri": "https://localhost:8080/"
        },
        "id": "tvlmcySfGFHI",
        "outputId": "8a466394-72ab-4318-9872-950eeca76dc3"
      },
      "execution_count": null,
      "outputs": [
        {
          "output_type": "stream",
          "name": "stdout",
          "text": [
            "['The', 'rain', 'in', 'Spain']\n"
          ]
        }
      ]
    },
    {
      "cell_type": "code",
      "source": [
        "text = \"hi i want to go to movie\""
      ],
      "metadata": {
        "id": "eL0Z4rB3JO5G"
      },
      "execution_count": null,
      "outputs": []
    },
    {
      "cell_type": "code",
      "source": [
        "import re \n",
        "text = \"hi i want to go to movie\"\n",
        "x = re.search (\"go\",txt)\n",
        "if x:\n",
        "  print(\"YES! We have a match!\")\n",
        "else:\n",
        "  print(\"No match\")\n"
      ],
      "metadata": {
        "colab": {
          "base_uri": "https://localhost:8080/"
        },
        "id": "GQZZQ2_dKM53",
        "outputId": "588165e9-12e0-4550-afef-4b39be5bc191"
      },
      "execution_count": null,
      "outputs": [
        {
          "output_type": "stream",
          "name": "stdout",
          "text": [
            "No match\n"
          ]
        }
      ]
    },
    {
      "cell_type": "code",
      "source": [
        "## find all\n",
        "import re\n",
        "text = \"hi i want to go to movie\"\n",
        "x = re.findall(\"i\", txt)\n",
        "print(x)"
      ],
      "metadata": {
        "colab": {
          "base_uri": "https://localhost:8080/"
        },
        "id": "inTNDHF-Le8N",
        "outputId": "f70f63b3-5c97-4539-dc59-c72ec76174fa"
      },
      "execution_count": null,
      "outputs": [
        {
          "output_type": "stream",
          "name": "stdout",
          "text": [
            "['i', 'i', 'i']\n"
          ]
        }
      ]
    },
    {
      "cell_type": "code",
      "source": [
        "import re\n",
        "text = \"my name is mounika and i am studying  1st year cse in gitam unversity \"\n",
        "x = re.findall(\"Portugal\", txt)\n",
        "print(x)"
      ],
      "metadata": {
        "colab": {
          "base_uri": "https://localhost:8080/"
        },
        "id": "Lm4chGHWMGOu",
        "outputId": "49ccac6f-9744-4b84-ee50-d48fc93318bb"
      },
      "execution_count": null,
      "outputs": [
        {
          "output_type": "stream",
          "name": "stdout",
          "text": [
            "[]\n"
          ]
        }
      ]
    },
    {
      "cell_type": "code",
      "source": [
        "## sub function\n",
        "import re\n",
        "txt =  \"my name is mounika and i am studying  1st year cse in gitam unversity \"\n",
        "x = re.sub(\"\\s\", \"9\", txt)\n",
        "print(x)"
      ],
      "metadata": {
        "colab": {
          "base_uri": "https://localhost:8080/"
        },
        "id": "KVhrOnG1NWGH",
        "outputId": "7548cc2c-ad3c-4e8a-87c5-57d9bbbe177c"
      },
      "execution_count": null,
      "outputs": [
        {
          "output_type": "stream",
          "name": "stdout",
          "text": [
            "my9name9is9mounika9and9i9am9studying991st9year9cse9in9gitam9unversity9\n"
          ]
        }
      ]
    },
    {
      "cell_type": "code",
      "source": [
        "## #Replace the first two occurrences of a white-space character with the digit 9:\n",
        "import re\n",
        "text =  \"my name is mounika and i am studying  1st year cse in gitam unversity\"\n",
        "x = re.sub(\"\\s\", \"9\", txt, 2)\n",
        "print(x)"
      ],
      "metadata": {
        "colab": {
          "base_uri": "https://localhost:8080/"
        },
        "id": "imMxzsUROuOY",
        "outputId": "8b744084-9935-4b15-c495-cf5f161b3d45"
      },
      "execution_count": null,
      "outputs": [
        {
          "output_type": "stream",
          "name": "stdout",
          "text": [
            "my9name9is mounika and i am studying  1st year cse in gitam unversity \n"
          ]
        }
      ]
    },
    {
      "cell_type": "code",
      "source": [
        "# Meta characters\n",
        "## Check if the string starts with 'hello':\n",
        "import re\n",
        "txt = \"Venezuela has a crime index of 83.76, the highest of any country in the world.\"\n",
        "x = re.findall(\"^hello\", txt)\n",
        "if x:\n",
        "  print(\"Yes, the string starts with 'hello'\")\n",
        "else:\n",
        "  print(\"No match\")"
      ],
      "metadata": {
        "colab": {
          "base_uri": "https://localhost:8080/"
        },
        "id": "Yrg-JCsiP0hI",
        "outputId": "369dff97-2cd0-43e5-824a-7056186c99d8"
      },
      "execution_count": null,
      "outputs": [
        {
          "output_type": "stream",
          "name": "stdout",
          "text": [
            "No match\n"
          ]
        }
      ]
    },
    {
      "cell_type": "code",
      "source": [
        "#Find all lower case characters alphabetically between \"a\" and \"m\":\n",
        "import re\n",
        "txt = \"Venezuela has a crime index of 83.76, the highest of any country in the world.\"\n",
        "x = re.findall(\"[a-m]\", txt)\n",
        "print(x)"
      ],
      "metadata": {
        "colab": {
          "base_uri": "https://localhost:8080/"
        },
        "id": "_dKRuE0WR_rR",
        "outputId": "ae386836-60e6-44cd-8942-2742b5c52b9d"
      },
      "execution_count": null,
      "outputs": [
        {
          "output_type": "stream",
          "name": "stdout",
          "text": [
            "['e', 'e', 'e', 'l', 'a', 'h', 'a', 'a', 'c', 'i', 'm', 'e', 'i', 'd', 'e', 'f', 'h', 'e', 'h', 'i', 'g', 'h', 'e', 'f', 'a', 'c', 'i', 'h', 'e', 'l', 'd']\n"
          ]
        }
      ]
    },
    {
      "cell_type": "code",
      "source": [
        "## find all digit characters\n",
        "import re\n",
        "txt = \"Venezuela has a crime index of 83.76, the highest of any country in the world.\"\n",
        "x = re.findall(\"\\d\", txt)\n",
        "print(x)"
      ],
      "metadata": {
        "colab": {
          "base_uri": "https://localhost:8080/"
        },
        "id": "y2EbL2ZDSw5B",
        "outputId": "0d88e0e9-cb0d-440c-dd80-b7cb73dc7b9e"
      },
      "execution_count": null,
      "outputs": [
        {
          "output_type": "stream",
          "name": "stdout",
          "text": [
            "['8', '3', '7', '6']\n"
          ]
        }
      ]
    },
    {
      "cell_type": "code",
      "source": [
        "#Search for a sequence that starts with \"he\", followed by two (any) characters, and an \"o\":\n",
        "import re\n",
        "txt = \"mounika\"\n",
        "x = re.findall(\"mo..ika\", txt)\n",
        "print(x)"
      ],
      "metadata": {
        "colab": {
          "base_uri": "https://localhost:8080/"
        },
        "id": "AQzzePIhTUBa",
        "outputId": "15a07c47-fbac-4102-c972-dd9050c94fb1"
      },
      "execution_count": null,
      "outputs": [
        {
          "output_type": "stream",
          "name": "stdout",
          "text": [
            "['mounika']\n"
          ]
        }
      ]
    },
    {
      "cell_type": "code",
      "source": [
        "#Check if the string ends with 'planet':\n",
        "import re\n",
        "txt = \"hello planet\"\n",
        "x = re.findall(\"planet$\", txt)\n",
        "if x:\n",
        "  print(\"Yes, the string ends with 'planet'\")\n",
        "else:\n",
        "  print(\"No match\")"
      ],
      "metadata": {
        "colab": {
          "base_uri": "https://localhost:8080/"
        },
        "id": "Q9E2W5ETU5rK",
        "outputId": "cf174e3e-debc-44c1-b29b-f8a94e049733"
      },
      "execution_count": null,
      "outputs": [
        {
          "output_type": "stream",
          "name": "stdout",
          "text": [
            "Yes, the string ends with 'planet'\n"
          ]
        }
      ]
    },
    {
      "cell_type": "code",
      "source": [
        "#Search for a sequence that starts with \"he\", followed by 0 or more  (any) characters, and an \"o\":\n",
        "import re\n",
        "txt = \"hello planet\"\n",
        "x = re.findall(\"he.*o\", txt)\n",
        "print(x)"
      ],
      "metadata": {
        "colab": {
          "base_uri": "https://localhost:8080/"
        },
        "id": "QBmTiD11VFht",
        "outputId": "8838a4a3-266c-4102-9045-a1ca682d81a3"
      },
      "execution_count": null,
      "outputs": [
        {
          "output_type": "stream",
          "name": "stdout",
          "text": [
            "['hello']\n"
          ]
        }
      ]
    },
    {
      "cell_type": "code",
      "source": [
        "#Search for a sequence that starts with \"he\", followed by 1 or more  (any) characters, and an \"o\": \n",
        "import re\n",
        "txt =  \"planet\"\n",
        "x = re.findall(\"pla.et\", txt)\n",
        "print(x)"
      ],
      "metadata": {
        "colab": {
          "base_uri": "https://localhost:8080/"
        },
        "id": "yCcXp2_MVZSK",
        "outputId": "c3eeff41-733d-469e-880e-e9f882f78b84"
      },
      "execution_count": null,
      "outputs": [
        {
          "output_type": "stream",
          "name": "stdout",
          "text": [
            "['planet']\n"
          ]
        }
      ]
    },
    {
      "cell_type": "code",
      "source": [
        "#Search for a sequence that starts with \"he\", followed by 0 or 1  (any) character, and an \"o\":\n",
        "import re\n",
        "txt = \"hello planet\"\n",
        "x = re.findall(\"he.?o\", txt)\n",
        "print(x)"
      ],
      "metadata": {
        "id": "YxjgintbWPJC",
        "colab": {
          "base_uri": "https://localhost:8080/"
        },
        "outputId": "174738fb-191f-4806-ba42-00de1f1230d5"
      },
      "execution_count": 2,
      "outputs": [
        {
          "output_type": "stream",
          "name": "stdout",
          "text": [
            "[]\n"
          ]
        }
      ]
    },
    {
      "cell_type": "code",
      "source": [
        "#Search for a sequence that starts with \"he\", followed excactly 2 (any) characters, and an \"o\":\n",
        "import re\n",
        "txt = \"hello planet\"\n",
        "x = re.findall(\"he.{2}o\", txt)\n",
        "print(x)"
      ],
      "metadata": {
        "colab": {
          "base_uri": "https://localhost:8080/"
        },
        "id": "sGz-EzSx1B64",
        "outputId": "f5a4b5cc-99af-42e3-8d26-1b50272051fa"
      },
      "execution_count": 4,
      "outputs": [
        {
          "output_type": "stream",
          "name": "stdout",
          "text": [
            "['hello']\n"
          ]
        }
      ]
    },
    {
      "cell_type": "code",
      "source": [
        "#Check if the string contains either \"falls\" or \"stays\":\n",
        "import re\n",
        "txt = \"The rain in Spain falls mainly in the plain!\"\n",
        "x = re.findall(\"falls|stays\", txt)\n",
        "print(x)\n",
        "if x:\n",
        "  print(\"Yes, there is at least one match!\")\n",
        "else:\n",
        "  print(\"No match\")"
      ],
      "metadata": {
        "colab": {
          "base_uri": "https://localhost:8080/"
        },
        "id": "cn25bpSH1TDI",
        "outputId": "a3434a7f-173a-4900-e8d3-1bfb6952da13"
      },
      "execution_count": 6,
      "outputs": [
        {
          "output_type": "stream",
          "name": "stdout",
          "text": [
            "['falls']\n",
            "Yes, there is at least one match!\n"
          ]
        }
      ]
    },
    {
      "cell_type": "code",
      "source": [
        "### special sequences\n",
        "#Check if the string starts with \"The\":\n",
        "import re\n",
        "txt = \"The rain in Spain\"\n",
        "x = re.findall(\"\\AThe\", txt)\n",
        "print(x)\n",
        "if x:\n",
        "  print(\"Yes, there is a match!\")\n",
        "else:\n",
        "  print(\"No match\")"
      ],
      "metadata": {
        "colab": {
          "base_uri": "https://localhost:8080/"
        },
        "id": "mbJ8S4b81nS3",
        "outputId": "f3f6ee34-ec60-465b-a015-ced357b780db"
      },
      "execution_count": 8,
      "outputs": [
        {
          "output_type": "stream",
          "name": "stdout",
          "text": [
            "['The']\n",
            "Yes, there is a match!\n"
          ]
        }
      ]
    },
    {
      "cell_type": "code",
      "source": [
        "#Check if \"ain\" is present at the beginning of a WORD:\n",
        "import re\n",
        "txt = \"The rain in Spain\"\n",
        "x = re.findall(r\"\\bain\", txt)\n",
        "print(x)\n",
        "if x:\n",
        "  print(\"Yes, there is at least one match!\")\n",
        "else:\n",
        "  print(\"No match\")"
      ],
      "metadata": {
        "colab": {
          "base_uri": "https://localhost:8080/"
        },
        "id": "xZfMgQWw2ViX",
        "outputId": "042ab9f4-dba0-4ee0-d7e3-8979eadc74aa"
      },
      "execution_count": 10,
      "outputs": [
        {
          "output_type": "stream",
          "name": "stdout",
          "text": [
            "[]\n",
            "No match\n"
          ]
        }
      ]
    },
    {
      "cell_type": "code",
      "source": [
        "#Check if \"ain\" is present at the beginning of a WORD:\n",
        "import re\n",
        "txt = \"I love rain\"\n",
        "x = re.findall(r\"\\bain\", txt)\n",
        "print(x)\n",
        "if x:\n",
        "  print(\"Yes, there is at least one match!\")\n",
        "else:\n",
        "  print(\"No match\")"
      ],
      "metadata": {
        "colab": {
          "base_uri": "https://localhost:8080/"
        },
        "id": "GY78rnOD3If3",
        "outputId": "7defc7bc-3239-4171-ec6b-36698cb13355"
      },
      "execution_count": 12,
      "outputs": [
        {
          "output_type": "stream",
          "name": "stdout",
          "text": [
            "[]\n",
            "No match\n"
          ]
        }
      ]
    },
    {
      "cell_type": "code",
      "source": [
        "#Check if \"ain\" is present, but NOT at the beginning of a word:\n",
        "import re\n",
        "txt = \"my name is mounika\"\n",
        "x = re.findall(r\"\\Bain\", txt)\n",
        "print(x)\n",
        "if x:\n",
        "  print(\"Yes, there is at least one match!\")\n",
        "else:\n",
        "  print(\"No match\")"
      ],
      "metadata": {
        "colab": {
          "base_uri": "https://localhost:8080/"
        },
        "id": "ehCjK6N23rAn",
        "outputId": "804bf085-9f42-4a5e-d228-f8dd174dbca2"
      },
      "execution_count": 16,
      "outputs": [
        {
          "output_type": "stream",
          "name": "stdout",
          "text": [
            "[]\n",
            "No match\n"
          ]
        }
      ]
    },
    {
      "cell_type": "code",
      "source": [
        "#Check if the string contains any digits (numbers from 0-9):\n",
        "import re\n",
        "txt = \"my name is mounika\"\n",
        "x = re.findall(\"\\d\", txt)\n",
        "print(x)\n",
        "if x:\n",
        "  print(\"Yes, there is at least one match!\")\n",
        "else:\n",
        "  print(\"No match\")"
      ],
      "metadata": {
        "colab": {
          "base_uri": "https://localhost:8080/"
        },
        "id": "hV55YeNs4V0O",
        "outputId": "4ecfde0b-6f5e-487b-c402-fa77dc85aa10"
      },
      "execution_count": 18,
      "outputs": [
        {
          "output_type": "stream",
          "name": "stdout",
          "text": [
            "[]\n",
            "No match\n"
          ]
        }
      ]
    },
    {
      "cell_type": "code",
      "source": [
        "#Return a match at every no-digit character:\n",
        "import re\n",
        "txt = \"my name is mounika\"\n",
        "x = re.findall(\"\\D\", txt)\n",
        "print(x)\n",
        "if x:\n",
        "  print(\"Yes, there is at least one match!\")\n",
        "else:\n",
        "  print(\"No match\")"
      ],
      "metadata": {
        "colab": {
          "base_uri": "https://localhost:8080/"
        },
        "id": "toiXpBiq4kA3",
        "outputId": "605238e1-a597-4d31-f082-b1af5b3b3c77"
      },
      "execution_count": 20,
      "outputs": [
        {
          "output_type": "stream",
          "name": "stdout",
          "text": [
            "['m', 'y', ' ', 'n', 'a', 'm', 'e', ' ', 'i', 's', ' ', 'm', 'o', 'u', 'n', 'i', 'k', 'a']\n",
            "Yes, there is at least one match!\n"
          ]
        }
      ]
    },
    {
      "cell_type": "code",
      "source": [
        "#Return a match at every white-space character:\n",
        "import re\n",
        "txt = \"i love icecreams\"\n",
        "x = re.findall(\"\\s\", txt)\n",
        "print(x)\n",
        "if x:\n",
        "  print(\"Yes, there is at least one match!\")\n",
        "else:\n",
        "  print(\"No match\")"
      ],
      "metadata": {
        "colab": {
          "base_uri": "https://localhost:8080/"
        },
        "id": "ltzCFNi35DRm",
        "outputId": "c2f9c8f3-7995-40f4-fbd9-99b4b1b3b48c"
      },
      "execution_count": 22,
      "outputs": [
        {
          "output_type": "stream",
          "name": "stdout",
          "text": [
            "[' ', ' ']\n",
            "Yes, there is at least one match!\n"
          ]
        }
      ]
    },
    {
      "cell_type": "code",
      "source": [
        "#Return a match at every NON white-space character:\n",
        "import re\n",
        "txt = \"The rain in Spain\"\n",
        "x = re.findall(\"\\S\", txt)\n",
        "print(x)\n",
        "if x:\n",
        "  print(\"Yes, there is at least one match!\")\n",
        "else:\n",
        "  print(\"No match\")"
      ],
      "metadata": {
        "colab": {
          "base_uri": "https://localhost:8080/"
        },
        "id": "KuGW45JO5nM2",
        "outputId": "466c138a-fe07-4d3f-a45b-4ed7163afa72"
      },
      "execution_count": 23,
      "outputs": [
        {
          "output_type": "stream",
          "name": "stdout",
          "text": [
            "['T', 'h', 'e', 'r', 'a', 'i', 'n', 'i', 'n', 'S', 'p', 'a', 'i', 'n']\n",
            "Yes, there is at least one match!\n"
          ]
        }
      ]
    }
  ]
}