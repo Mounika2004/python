{
  "nbformat": 4,
  "nbformat_minor": 0,
  "metadata": {
    "colab": {
      "name": "Copy of Copy of Functions1",
      "provenance": [],
      "authorship_tag": "ABX9TyPluV9Yclrw+whbReA4a9Zo",
      "include_colab_link": true
    },
    "kernelspec": {
      "name": "python3",
      "display_name": "Python 3"
    },
    "language_info": {
      "name": "python"
    }
  },
  "cells": [
    {
      "cell_type": "markdown",
      "metadata": {
        "id": "view-in-github",
        "colab_type": "text"
      },
      "source": [
        "<a href=\"https://colab.research.google.com/github/Mounika2004/python/blob/main/Copy_of_Copy_of_Functions1.ipynb\" target=\"_parent\"><img src=\"https://colab.research.google.com/assets/colab-badge.svg\" alt=\"Open In Colab\"/></a>"
      ]
    },
    {
      "cell_type": "code",
      "execution_count": null,
      "metadata": {
        "id": "LsAhcvAIUQyy"
      },
      "outputs": [],
      "source": [
        "## creating a function"
      ]
    },
    {
      "cell_type": "code",
      "source": [
        "def Monika():\n",
        "  print(\"kgf2 was nice movie\") ## no arugement  and no return value\n",
        "Monika()"
      ],
      "metadata": {
        "colab": {
          "base_uri": "https://localhost:8080/"
        },
        "id": "hOlsRSQwUY6E",
        "outputId": "b76da7af-6f0c-472c-bd28-4f6d93232037"
      },
      "execution_count": null,
      "outputs": [
        {
          "output_type": "stream",
          "name": "stdout",
          "text": [
            "kgf2 was nice movie\n"
          ]
        }
      ]
    },
    {
      "cell_type": "code",
      "source": [
        "## Arugements"
      ],
      "metadata": {
        "id": "-xOYgr9kV8rC"
      },
      "execution_count": null,
      "outputs": []
    },
    {
      "cell_type": "code",
      "source": [
        "def  Monika(Anitha):\n",
        "  print(\"Monika\"  + Anitha)\n",
        "Monika(\"brave\")\n",
        "Monika(\"cool\")\n",
        "Monika(\"daring\")"
      ],
      "metadata": {
        "colab": {
          "base_uri": "https://localhost:8080/"
        },
        "id": "3hEAo17FWDv4",
        "outputId": "2292c58c-eaea-4bb0-c18f-a216508fd41c"
      },
      "execution_count": null,
      "outputs": [
        {
          "output_type": "stream",
          "name": "stdout",
          "text": [
            "Monikabrave\n",
            "Monikacool\n",
            "Monikadaring\n"
          ]
        }
      ]
    },
    {
      "cell_type": "code",
      "source": [
        "## voting "
      ],
      "metadata": {
        "id": "bPV0lFWdYCdR"
      },
      "execution_count": null,
      "outputs": []
    },
    {
      "cell_type": "code",
      "source": [
        "def voting(g,n,a):\n",
        "  print(g + \"female\")\n",
        "  print(n + \"Monika\")\n",
        "  print(a + \"19\")\n",
        "voting(\"gender:\",\"name:\",\"age:\")"
      ],
      "metadata": {
        "colab": {
          "base_uri": "https://localhost:8080/"
        },
        "id": "lel2Au8yYI0R",
        "outputId": "24aeb26a-75be-416d-aaa7-53d00a50e2e2"
      },
      "execution_count": null,
      "outputs": [
        {
          "output_type": "stream",
          "name": "stdout",
          "text": [
            "gender:female\n",
            "name:Monika\n",
            "age:19\n"
          ]
        }
      ]
    },
    {
      "cell_type": "code",
      "source": [
        "## number of arugements"
      ],
      "metadata": {
        "id": "9TGXARoTZXqZ"
      },
      "execution_count": null,
      "outputs": []
    },
    {
      "cell_type": "code",
      "source": [
        "def jithu(Anitha,Abhi):\n",
        "  print(Anitha+  \"\"+\"and Keerti\"+Abhi) ## with arugement and no return value\n",
        "jithu(\"Mounika\", \"Rivals\")"
      ],
      "metadata": {
        "colab": {
          "base_uri": "https://localhost:8080/"
        },
        "id": "6ZqRZUpqaIKE",
        "outputId": "411aa223-269f-4cce-f70c-882cbac56da4"
      },
      "execution_count": null,
      "outputs": [
        {
          "output_type": "stream",
          "name": "stdout",
          "text": [
            "Mounikaand KeertiRivals\n"
          ]
        }
      ]
    },
    {
      "cell_type": "code",
      "source": [
        "## with arugement and  no return value"
      ],
      "metadata": {
        "id": "KdFsfo0-cZqh"
      },
      "execution_count": null,
      "outputs": []
    },
    {
      "cell_type": "code",
      "source": [
        "def voting(name,age,gender):\n",
        "  print(\"name:\" + name)\n",
        "  print(\"age:\" + age)\n",
        "  print(\"gender:\" + gender )\n",
        "voting(\"Monika\",\"19\",\"female\")"
      ],
      "metadata": {
        "colab": {
          "base_uri": "https://localhost:8080/"
        },
        "id": "ccBgai05cnGf",
        "outputId": "04dd3725-44f5-40c3-df62-3ef9073099a8"
      },
      "execution_count": null,
      "outputs": [
        {
          "output_type": "stream",
          "name": "stdout",
          "text": [
            "name:Monika\n",
            "age:19\n",
            "gender:female\n"
          ]
        }
      ]
    },
    {
      "cell_type": "code",
      "source": [
        "## arbitary arugements"
      ],
      "metadata": {
        "id": "kPrN5Rm9eXWh"
      },
      "execution_count": null,
      "outputs": []
    },
    {
      "cell_type": "code",
      "source": [
        "def Monika(*Anitha):\n",
        "  print(\"the clever one is \" +' ' + Anitha[1])\n",
        "Monika(\"Anitha\",\"Abhitha\",\"Choornika\")"
      ],
      "metadata": {
        "colab": {
          "base_uri": "https://localhost:8080/"
        },
        "id": "AGn3hCn8fX4G",
        "outputId": "2ead8fde-9d28-4421-c699-06667722b8ae"
      },
      "execution_count": null,
      "outputs": [
        {
          "output_type": "stream",
          "name": "stdout",
          "text": [
            "the clever one is  Abhitha\n"
          ]
        }
      ]
    },
    {
      "cell_type": "code",
      "source": [
        "## key word arugement"
      ],
      "metadata": {
        "id": "2BmRnV5Eehwf"
      },
      "execution_count": null,
      "outputs": []
    },
    {
      "cell_type": "code",
      "source": [
        "def my_function (star3,star2,star1):\n",
        "   print(\"the finest star \" + star3)\n",
        "my_function(star1 = \"Monika\", star2 = \"Anitha\", star3 = \"choornika\")"
      ],
      "metadata": {
        "colab": {
          "base_uri": "https://localhost:8080/"
        },
        "id": "LhZ_ZcD9i96s",
        "outputId": "cad811bb-7764-4b86-bf5b-8d3126f80af2"
      },
      "execution_count": null,
      "outputs": [
        {
          "output_type": "stream",
          "name": "stdout",
          "text": [
            "the finest star choornika\n"
          ]
        }
      ]
    },
    {
      "cell_type": "code",
      "source": [
        "## arbitary keyword arugements"
      ],
      "metadata": {
        "id": "C_NsZXlYlHUG"
      },
      "execution_count": null,
      "outputs": []
    },
    {
      "cell_type": "code",
      "source": [
        "def my_function(**kid):\n",
        "  print(\"His last name is \" + kid[\"lname\"])\n",
        "\n",
        "my_function(fname = \"Mounika\", lname = \"vakada\")\n"
      ],
      "metadata": {
        "colab": {
          "base_uri": "https://localhost:8080/"
        },
        "id": "mnWq4-ONlZZz",
        "outputId": "99e3f5b6-b265-463e-8428-634651a6bb40"
      },
      "execution_count": null,
      "outputs": [
        {
          "output_type": "stream",
          "name": "stdout",
          "text": [
            "His last name is vakada\n"
          ]
        }
      ]
    }
  ]
}